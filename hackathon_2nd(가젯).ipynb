{
 "cells": [
  {
   "cell_type": "code",
   "execution_count": 1,
   "metadata": {},
   "outputs": [
    {
     "name": "stdout",
     "output_type": "stream",
     "text": [
      "Requirement already satisfied: seqeval==1.0.0 in /usr/local/lib/python3.8/dist-packages (1.0.0)\n",
      "Requirement already satisfied: numpy==1.19.2 in /usr/local/lib/python3.8/dist-packages (from seqeval==1.0.0) (1.19.2)\n",
      "Requirement already satisfied: scikit-learn==0.23.2 in /usr/local/lib/python3.8/dist-packages (from seqeval==1.0.0) (0.23.2)\n",
      "Requirement already satisfied: scipy>=0.19.1 in /usr/local/lib/python3.8/dist-packages (from scikit-learn==0.23.2->seqeval==1.0.0) (1.5.2)\n",
      "Requirement already satisfied: joblib>=0.11 in /usr/local/lib/python3.8/dist-packages (from scikit-learn==0.23.2->seqeval==1.0.0) (0.16.0)\n",
      "Requirement already satisfied: threadpoolctl>=2.0.0 in /usr/local/lib/python3.8/dist-packages (from scikit-learn==0.23.2->seqeval==1.0.0) (2.1.0)\n",
      "\u001b[33mWARNING: You are using pip version 20.2.3; however, version 20.2.4 is available.\n",
      "You should consider upgrading via the '/usr/bin/python3 -m pip install --upgrade pip' command.\u001b[0m\n",
      "Note: you may need to restart the kernel to use updated packages.\n"
     ]
    }
   ],
   "source": [
    "pip install seqeval==1.0.0"
   ]
  },
  {
   "cell_type": "code",
   "execution_count": 1,
   "metadata": {},
   "outputs": [],
   "source": [
    "from feature.gazetteer import GazetteFeature as GZ"
   ]
  },
  {
   "cell_type": "code",
   "execution_count": 2,
   "metadata": {},
   "outputs": [],
   "source": [
    "root_dir='.'\n",
    "output_dir='./output'\n",
    "config = {\n",
    "  \"mode\": \"train\",\n",
    "  \"train_file\":\"ner_train.txt\",\n",
    "  \"dev_file\": \"ner_dev.txt\",\n",
    "  \"word_vocab_file\":\"vocab/word_vocab.txt\",\n",
    "  \"tag_vocab_file\":\"vocab/tag_vocab.txt\",\n",
    "  \"trained_model_name\":\"epoch_{}.pt\".format(5),\n",
    "  \"output_dir_path\":output_dir,\n",
    "  \"word_vocab_size\":2160,\n",
    "  \"number_of_tags\": 14,\n",
    "  \"hidden_size\": 100,\n",
    "  \"dropout\":0.2,\n",
    "  \"embedding_size\":100,\n",
    "  \"max_length\": 150,\n",
    "  \"batch_size\":64,\n",
    "  \"epoch\":20,\n",
    "  \"gazette_feature\": GZ(),\n",
    "  \"ngram\":4,\n",
    "}"
   ]
  },
  {
   "cell_type": "code",
   "execution_count": 2,
   "metadata": {
    "executionInfo": {
     "elapsed": 4583,
     "status": "ok",
     "timestamp": 1604897378973,
     "user": {
      "displayName": "장영진",
      "photoUrl": "",
      "userId": "16685945690070219700"
     },
     "user_tz": -540
    },
    "id": "cdBFg0kb4Urd"
   },
   "outputs": [],
   "source": [
    "import os\n",
    "import torch\n",
    "import torch.nn as nn\n",
    "from torchcrf import CRF\n",
    "from seqeval.metrics import classification_report\n",
    "\n",
    "class RNN_CRF(nn.Module):\n",
    "    def __init__(self, config):\n",
    "        super(RNN_CRF, self).__init__()\n",
    "\n",
    "        # 전체 음절 개수\n",
    "        self.eumjeol_vocab_size = config[\"word_vocab_size\"]\n",
    "\n",
    "        # 음절 임베딩 사이즈\n",
    "        self.embedding_size = config[\"embedding_size\"]\n",
    "\n",
    "        # GRU 히든 사이즈\n",
    "        self.hidden_size = config[\"hidden_size\"]\n",
    "\n",
    "        # 분류할 태그의 개수\n",
    "        self.number_of_tags = config[\"number_of_tags\"]\n",
    "\n",
    "        # 입력 데이터에 있는 각 음절 index를 대응하는 임베딩 벡터로 치환해주기 위한 임베딩 객체\n",
    "        self.embedding = nn.Embedding(num_embeddings=self.eumjeol_vocab_size,\n",
    "                                      embedding_dim=self.embedding_size,\n",
    "                                      padding_idx=0)\n",
    "\n",
    "        self.dropout = nn.Dropout(config[\"dropout\"])\n",
    "\n",
    "        # Bi-GRU layer\n",
    "        self.bi_gru = nn.GRU(input_size = self.embedding_size,\n",
    "                             hidden_size= self.hidden_size,\n",
    "                             num_layers=1,\n",
    "                             batch_first=True,\n",
    "                             bidirectional=True)\n",
    "\n",
    "        # CRF layer\n",
    "        self.crf = CRF(num_tags=self.number_of_tags, batch_first=True)\n",
    "\n",
    "        # fully_connected layer를 통하여 출력 크기를 number_of_tags에 맞춰줌\n",
    "        # (batch_size, max_length, hidden_size*2) -> (batch_size, max_length, number_of_tags)\n",
    "        self.hidden2num_tag = nn.Linear(in_features=self.hidden_size*2, out_features=self.number_of_tags)\n",
    "\n",
    "    def forward(self, inputs, gazettes, labels=None):\n",
    "        # (batch_size, max_length) -> (batch_size, max_length, embedding_size)\n",
    "        eumjeol_inputs = self.embedding(inputs)\n",
    "        eumjeol_gazette_inputs = torch.cat((eumjeol_inputs, gazettes), -1)\n",
    "        encoder_outputs, hidden_states = self.bi_gru(eumjeol_inputs)\n",
    "        \n",
    "        # (batch_size, curr_max_length, hidden_size*2)\n",
    "        d_hidden_outputs = self.dropout(encoder_outputs)\n",
    "\n",
    "        # (batch_size, curr_max_length, hidden_size*2) -> (batch_size, curr_max_length, number_of_tags)\n",
    "        logits = self.hidden2num_tag(d_hidden_outputs)\n",
    "\n",
    "        if(labels is not None):\n",
    "            log_likelihood = self.crf(emissions=logits,\n",
    "                                      tags=labels,\n",
    "                                      reduction=\"mean\")\n",
    "\n",
    "            loss = log_likelihood * -1.0\n",
    "\n",
    "            return loss\n",
    "        else:\n",
    "            output = self.crf.decode(emissions=logits)\n",
    "\n",
    "            return output"
   ]
  },
  {
   "cell_type": "code",
   "execution_count": 3,
   "metadata": {
    "executionInfo": {
     "elapsed": 686,
     "status": "ok",
     "timestamp": 1604897383072,
     "user": {
      "displayName": "장영진",
      "photoUrl": "",
      "userId": "16685945690070219700"
     },
     "user_tz": -540
    },
    "id": "SlVPOWVk4nqP"
   },
   "outputs": [],
   "source": [
    "from tqdm import tqdm\n",
    "import numpy as np\n",
    "def load_vocab(f_name):\n",
    "    vocab_file = open(os.path.join(root_dir, f_name),'r',encoding='utf8')\n",
    "    print(\"{} vocab file loading...\".format(f_name))\n",
    "\n",
    "    # default 요소가 저장된 딕셔너리 생성\n",
    "    symbol2idx, idx2symbol = {\"<PAD>\":0, \"<UNK>\":1}, {0:\"<PAD>\", 1:\"<UNK>\"}\n",
    "\n",
    "    # 시작 인덱스 번호 저장\n",
    "    index = len(symbol2idx)\n",
    "    for line in tqdm(vocab_file.readlines()):\n",
    "        symbol = line.strip()\n",
    "        symbol2idx[symbol] = index\n",
    "        idx2symbol[index]= symbol\n",
    "        index+=1\n",
    "\n",
    "    return symbol2idx, idx2symbol\n",
    "\n",
    "def convert_data2feature(data, symbol2idx, max_length=None):\n",
    "    feature = np.zeros(shape=(max_length), dtype=np.int)\n",
    "    words = data.split()\n",
    "\n",
    "    for idx, word in enumerate(words[:max_length]):\n",
    "        if word in symbol2idx.keys():\n",
    "            feature[idx] = symbol2idx[word]\n",
    "        else:\n",
    "            feature[idx] = symbol2idx[\"<UNK>\"]\n",
    "    return feature\n",
    "\n",
    "def convert_data2gazette(line, max_length=None, ngram=4):\n",
    "    gz = config[\"gazette_feature\"]\n",
    "    sentence = line.split()\n",
    "    if len(sentence) <= max_length:\n",
    "        sentence += ['<UNK>'] * (max_length - len(sentence))\n",
    "    else:\n",
    "        sentence = sentence[:max_length]\n",
    "    feature = gz.transfrom_charaterized_line(sentence, ngram)\n",
    "    return feature\n",
    "\n",
    "# 파라미터로 입력받은 파일로부터 tensor객체 생성\n",
    "def load_data(config, f_name, word2idx, tag2idx):\n",
    "    file = open(os.path.join(root_dir, f_name),'r',encoding='utf8')\n",
    "\n",
    "    # return할 문장/라벨 리스트 생성\n",
    "    indexing_inputs, indexing_tags = [], []\n",
    "    gazettes = []\n",
    "\n",
    "    print(\"{} file loading...\".format(f_name))\n",
    "\n",
    "    # 실제 데이터는 아래와 같은 형태를 가짐\n",
    "    # 문장 \\t 태그\n",
    "    # 세 종 대 왕 은 <SP> 조 선 의 <SP> 4 대 <SP> 왕 이 야 \\t B_PS I_PS I_PS I_PS O <SP> B_LC I_LC O <SP> O O <SP> O O O\n",
    "    for line in tqdm(file.readlines()):\n",
    "        try:\n",
    "            id, sentence, tags = line.strip().split('\\t')\n",
    "        except:\n",
    "            id, sentence = line.strip().split('\\t')\n",
    "        input_sentence = convert_data2feature(sentence, word2idx, config[\"max_length\"])\n",
    "        input_gazette = convert_data2gazette(sentence, config[\"max_length\"], config[\"ngram\"])\n",
    "        indexing_tag = convert_data2feature(tags, tag2idx, config[\"max_length\"])\n",
    "\n",
    "        indexing_inputs.append(input_sentence)\n",
    "        gazettes.append(input_gazette)\n",
    "        indexing_tags.append(indexing_tag)\n",
    "        \n",
    "    indexing_inputs = torch.tensor(indexing_inputs, dtype=torch.long)\n",
    "    gazettes = torch.tensor(gazettes, dtype=torch.float)\n",
    "    indexing_tags = torch.tensor(indexing_tags, dtype=torch.long)\n",
    "\n",
    "    return indexing_inputs, gazettes, indexing_tags\n",
    "\n",
    "# tensor 객체를 리스트 형으로 바꾸기 위한 함수\n",
    "def tensor2list(input_tensor):\n",
    "    return input_tensor.cpu().detach().numpy().tolist()\n"
   ]
  },
  {
   "cell_type": "code",
   "execution_count": 4,
   "metadata": {
    "executionInfo": {
     "elapsed": 736,
     "status": "ok",
     "timestamp": 1604897384165,
     "user": {
      "displayName": "장영진",
      "photoUrl": "",
      "userId": "16685945690070219700"
     },
     "user_tz": -540
    },
    "id": "HfKUI3mH4wqh"
   },
   "outputs": [],
   "source": [
    "from torch.utils.data import (DataLoader, TensorDataset)\n",
    "import torch.optim as optim\n",
    "\n",
    "def train(config):\n",
    "    # 모델 객체 생성\n",
    "    model = RNN_CRF(config).cuda()\n",
    "    # 단어 딕셔너리 생성\n",
    "    word2idx, idx2word = load_vocab(config[\"word_vocab_file\"])\n",
    "    tag2idx, idx2tag = load_vocab(config[\"tag_vocab_file\"])\n",
    "\n",
    "    # 데이터 Load\n",
    "    train_input_features, train_gazettes, train_tags = load_data(config, config[\"train_file\"], word2idx, tag2idx)\n",
    "    test_input_features, test_gazettes, test_tags = load_data(config, config[\"dev_file\"], word2idx, tag2idx)\n",
    "\n",
    "    # 불러온 데이터를 TensorDataset 객체로 변환\n",
    "    train_features = TensorDataset(train_input_features, train_gazettes, train_tags)\n",
    "    train_dataloader = DataLoader(train_features, shuffle=True, batch_size=config[\"batch_size\"])\n",
    "\n",
    "    test_features = TensorDataset(test_input_features, test_gazettes, test_tags)\n",
    "    test_dataloader = DataLoader(test_features, shuffle=False, batch_size=config[\"batch_size\"])\n",
    "\n",
    "    # 모델을 학습하기위한 optimizer\n",
    "    optimizer = optim.Adam(model.parameters(), lr=0.005)\n",
    "\n",
    "    accuracy_list = []\n",
    "    for epoch in range(config[\"epoch\"]):\n",
    "        model.train()\n",
    "        losses = []\n",
    "        for step, batch in enumerate(train_dataloader):\n",
    "            # .cuda()를 이용하여 메모리에 업로드\n",
    "            batch = tuple(t.cuda() for t in batch)\n",
    "            input_features, gazettes, labels = batch\n",
    "\n",
    "            # loss 계산\n",
    "            loss = model.forward(input_features, gazettes, labels)\n",
    "\n",
    "            # 변화도 초기화\n",
    "            optimizer.zero_grad()\n",
    "\n",
    "            # loss 값으로부터 모델 내부 각 매개변수에 대하여 gradient 계산\n",
    "            loss.backward()\n",
    "\n",
    "            # 모델 내부 각 매개변수 가중치 갱신\n",
    "            optimizer.step()\n",
    "\n",
    "            if (step + 1) % 50 == 0:\n",
    "                print(\"{} step processed.. current loss : {}\".format(step + 1, loss.data.item()))\n",
    "            losses.append(loss.data.item())\n",
    "\n",
    "\n",
    "\n",
    "        print(\"Average Loss : {}\".format(np.mean(losses)))\n",
    "\n",
    "        # 모델 저장\n",
    "        torch.save(model.state_dict(), os.path.join(config[\"output_dir_path\"], \"epoch_{}.pt\".format(epoch + 1)))\n",
    "\n",
    "        do_test(model, test_dataloader, idx2tag)\n",
    "\n",
    "\n",
    "\n",
    "def test(config):\n",
    "    # 모델 객체 생성\n",
    "    model = RNN_CRF(config).cuda()\n",
    "    # 단어 딕셔너리 생성\n",
    "    word2idx, idx2word = load_vocab(config[\"word_vocab_file\"])\n",
    "    tag2idx, idx2tag = load_vocab(config[\"tag_vocab_file\"])\n",
    "\n",
    "\n",
    "    # 저장된 가중치 Load\n",
    "    model.load_state_dict(torch.load(os.path.join(config[\"output_dir_path\"], config[\"trained_model_name\"])))\n",
    "\n",
    "    # 데이터 Load\n",
    "    test_input_features, test_tags = load_data(config, config[\"dev_file\"], word2idx, tag2idx)\n",
    "\n",
    "    # 불러온 데이터를 TensorDataset 객체로 변환\n",
    "    test_features = TensorDataset(test_input_features, test_tags)\n",
    "    test_dataloader = DataLoader(test_features, shuffle=False, batch_size=config[\"batch_size\"])\n",
    "    # 평가 함수 호출\n",
    "    do_test(model, test_dataloader, idx2tag)\n",
    "\n",
    "def do_test(model, test_dataloader, idx2tag):\n",
    "    model.eval()\n",
    "    predicts, answers = [], []\n",
    "    for step, batch in enumerate(test_dataloader):\n",
    "        # .cuda() 함수를 이용하요 메모리에 업로드\n",
    "        batch = tuple(t.cuda() for t in batch)\n",
    "\n",
    "        # 데이터를 각 변수에 저장\n",
    "        input_features, _, labels = batch\n",
    "\n",
    "        # 예측 라벨 출력\n",
    "        output = model(input_features)\n",
    "\n",
    "        # 성능 평가를 위해 예측 값과 정답 값 리스트에 저장\n",
    "        for idx, answer in enumerate(tensor2list(labels)):\n",
    "            answers.extend([idx2tag[e].replace(\"_\", \"-\") for e in answer if idx2tag[e] != \"<SP>\" and idx2tag[e] != \"<PAD>\"])\n",
    "            predicts.extend([idx2tag[e].replace(\"_\", \"-\") for i, e in enumerate(output[idx]) if idx2tag[answer[i]] != \"<SP>\" and idx2tag[answer[i]] != \"<PAD>\"] )\n",
    "    \n",
    "    # 성능 평가\n",
    "    print(classification_report(answers, predicts))\n"
   ]
  },
  {
   "cell_type": "code",
   "execution_count": 7,
   "metadata": {
    "colab": {
     "base_uri": "https://localhost:8080/"
    },
    "executionInfo": {
     "elapsed": 413138,
     "status": "ok",
     "timestamp": 1604897797665,
     "user": {
      "displayName": "장영진",
      "photoUrl": "",
      "userId": "16685945690070219700"
     },
     "user_tz": -540
    },
    "id": "QXHsFV-z4zZc",
    "outputId": "8ea46d28-a59d-4e53-e1f7-088a9d24562c"
   },
   "outputs": [
    {
     "ename": "NameError",
     "evalue": "name 'config' is not defined",
     "output_type": "error",
     "traceback": [
      "\u001b[0;31m\u001b[0m",
      "\u001b[0;31mNameError\u001b[0mTraceback (most recent call last)",
      "\u001b[0;32m<ipython-input-7-753590e3d06d>\u001b[0m in \u001b[0;36m<module>\u001b[0;34m\u001b[0m\n\u001b[1;32m     14\u001b[0m         \u001b[0mos\u001b[0m\u001b[0;34m.\u001b[0m\u001b[0mmakedirs\u001b[0m\u001b[0;34m(\u001b[0m\u001b[0moutput_dir\u001b[0m\u001b[0;34m)\u001b[0m\u001b[0;34m\u001b[0m\u001b[0;34m\u001b[0m\u001b[0m\n\u001b[1;32m     15\u001b[0m \u001b[0;34m\u001b[0m\u001b[0m\n\u001b[0;32m---> 16\u001b[0;31m     \u001b[0;32mif\u001b[0m\u001b[0;34m(\u001b[0m\u001b[0mconfig\u001b[0m\u001b[0;34m[\u001b[0m\u001b[0;34m\"mode\"\u001b[0m\u001b[0;34m]\u001b[0m \u001b[0;34m==\u001b[0m \u001b[0;34m\"train\"\u001b[0m\u001b[0;34m)\u001b[0m\u001b[0;34m:\u001b[0m\u001b[0;34m\u001b[0m\u001b[0;34m\u001b[0m\u001b[0m\n\u001b[0m\u001b[1;32m     17\u001b[0m         \u001b[0mtrain\u001b[0m\u001b[0;34m(\u001b[0m\u001b[0mconfig\u001b[0m\u001b[0;34m)\u001b[0m\u001b[0;34m\u001b[0m\u001b[0;34m\u001b[0m\u001b[0m\n\u001b[1;32m     18\u001b[0m     \u001b[0;32melse\u001b[0m\u001b[0;34m:\u001b[0m\u001b[0;34m\u001b[0m\u001b[0;34m\u001b[0m\u001b[0m\n",
      "\u001b[0;31mNameError\u001b[0m: name 'config' is not defined"
     ]
    }
   ],
   "source": [
    "##########################################################\n",
    "#                                                        #\n",
    "#        평가 기준이 되는 지표는 Macro F1 Score          #\n",
    "#           제출 포맷은 id \\t predict_tag                #\n",
    "#            25 \\t B_PS I_PS <SP> O O O ...              #\n",
    "#                                                        #\n",
    "##########################################################\n",
    "\n",
    "\n",
    "import os\n",
    "if(__name__==\"__main__\"):\n",
    "    output_dir = os.path.join(root_dir, \"output\")\n",
    "    if not os.path.exists(output_dir):\n",
    "        os.makedirs(output_dir)\n",
    "\n",
    "    if(config[\"mode\"] == \"train\"):\n",
    "        train(config)\n",
    "    else:\n",
    "        test(config)\n"
   ]
  },
  {
   "cell_type": "code",
   "execution_count": null,
   "metadata": {
    "id": "ENjD9mNs5B3U"
   },
   "outputs": [],
   "source": [
    "gz = GZ()\n",
    "print(gz.vocab)\n",
    "print(gz.label2idx)"
   ]
  },
  {
   "cell_type": "code",
   "execution_count": 15,
   "metadata": {},
   "outputs": [
    {
     "data": {
      "text/plain": [
       "array([[0., 0., 0., 0., 0., 0., 1.],\n",
       "       [0., 0., 0., 1., 0., 0., 0.]])"
      ]
     },
     "execution_count": 15,
     "metadata": {},
     "output_type": "execute_result"
    }
   ],
   "source": [
    "gz_f.transform_line(['하키', '중국팀'])"
   ]
  },
  {
   "cell_type": "code",
   "execution_count": 16,
   "metadata": {},
   "outputs": [
    {
     "data": {
      "text/plain": [
       "array([[[0., 0., 0., 0., 0., 0., 1.],\n",
       "        [0., 0., 0., 1., 0., 0., 0.]],\n",
       "\n",
       "       [[0., 0., 0., 1., 0., 0., 0.],\n",
       "        [0., 0., 0., 0., 0., 0., 1.]]])"
      ]
     },
     "execution_count": 16,
     "metadata": {},
     "output_type": "execute_result"
    }
   ],
   "source": [
    "gz_f.transform([['하키', '중국팀'], ['재무부', '사과']])"
   ]
  },
  {
   "cell_type": "code",
   "execution_count": 17,
   "metadata": {},
   "outputs": [
    {
     "data": {
      "text/plain": [
       "array([[0., 0., 0., 0., 0., 0., 1.],\n",
       "       [0., 0., 0., 0., 0., 0., 2.],\n",
       "       [0., 0., 0., 0., 0., 0., 3.],\n",
       "       [0., 0., 1., 0., 1., 0., 3.],\n",
       "       [0., 0., 1., 0., 1., 0., 3.],\n",
       "       [0., 0., 1., 0., 1., 0., 3.],\n",
       "       [0., 0., 1., 0., 1., 0., 3.],\n",
       "       [0., 0., 0., 0., 0., 0., 3.],\n",
       "       [0., 0., 0., 0., 0., 0., 2.],\n",
       "       [0., 0., 0., 0., 0., 0., 1.]])"
      ]
     },
     "execution_count": 17,
     "metadata": {},
     "output_type": "execute_result"
    }
   ],
   "source": [
    "gz_f.transfrom_charaterized_line(['나','는','<SP>','한','국','사','람','<SP>','이','다'], 4)"
   ]
  },
  {
   "cell_type": "code",
   "execution_count": 18,
   "metadata": {},
   "outputs": [
    {
     "data": {
      "text/plain": [
       "array([[[0., 0., 0., 0., 0., 0., 1.],\n",
       "        [0., 0., 0., 0., 0., 0., 2.],\n",
       "        [0., 0., 0., 0., 0., 0., 3.],\n",
       "        [0., 0., 1., 0., 1., 0., 3.],\n",
       "        [0., 0., 1., 0., 1., 0., 3.],\n",
       "        [0., 0., 1., 0., 1., 0., 3.],\n",
       "        [0., 0., 1., 0., 1., 0., 3.],\n",
       "        [0., 0., 0., 0., 0., 0., 4.],\n",
       "        [0., 0., 0., 0., 0., 0., 3.],\n",
       "        [0., 0., 0., 0., 0., 0., 2.],\n",
       "        [0., 0., 0., 0., 0., 0., 1.]],\n",
       "\n",
       "       [[0., 0., 0., 1., 0., 0., 0.],\n",
       "        [0., 0., 0., 1., 0., 0., 1.],\n",
       "        [0., 0., 0., 1., 0., 0., 2.],\n",
       "        [0., 0., 0., 1., 0., 0., 3.],\n",
       "        [0., 0., 0., 0., 0., 0., 4.],\n",
       "        [0., 0., 0., 0., 0., 0., 4.],\n",
       "        [0., 0., 0., 0., 0., 0., 4.],\n",
       "        [0., 0., 0., 0., 0., 0., 4.],\n",
       "        [0., 0., 0., 0., 0., 0., 3.],\n",
       "        [0., 0., 0., 0., 0., 0., 2.],\n",
       "        [0., 0., 0., 0., 0., 0., 1.]]])"
      ]
     },
     "execution_count": 18,
     "metadata": {},
     "output_type": "execute_result"
    }
   ],
   "source": [
    "gz_f.transfrom_charaterized([['나','는','<SP>','한','국','사','람','<SP>','이','다', '<PAD>'], \n",
    "                                  ['삼','성','전','자','<SP>','이','재','용', '<SP>','회','장']], 4)"
   ]
  }
 ],
 "metadata": {
  "accelerator": "GPU",
  "colab": {
   "authorship_tag": "ABX9TyPPhYT+qI42fZ4mJM5g2+tr",
   "collapsed_sections": [],
   "name": "baseline.ipynb",
   "provenance": []
  },
  "kernelspec": {
   "display_name": "Python 3",
   "language": "python",
   "name": "python3"
  },
  "language_info": {
   "codemirror_mode": {
    "name": "ipython",
    "version": 3
   },
   "file_extension": ".py",
   "mimetype": "text/x-python",
   "name": "python",
   "nbconvert_exporter": "python",
   "pygments_lexer": "ipython3",
   "version": "3.8.2"
  }
 },
 "nbformat": 4,
 "nbformat_minor": 1
}
