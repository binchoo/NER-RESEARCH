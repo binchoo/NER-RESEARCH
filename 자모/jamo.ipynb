{
 "cells": [
  {
   "cell_type": "code",
   "execution_count": 16,
   "metadata": {
    "colab": {
     "base_uri": "https://localhost:8080/"
    },
    "id": "TLXS7zBGKDGb",
    "outputId": "3a26df44-0f82-469f-b8d3-e5fad3f8b96a"
   },
   "outputs": [
    {
     "name": "stdout",
     "output_type": "stream",
     "text": [
      "Collecting jamo\n",
      "  Downloading https://files.pythonhosted.org/packages/ac/cc/49812faae67f9a24be6ddaf58a2cf7e8c3cbfcf5b762d9414f7103d2ea2c/jamo-0.4.1-py3-none-any.whl\n",
      "Installing collected packages: jamo\n",
      "Successfully installed jamo-0.4.1\n"
     ]
    }
   ],
   "source": [
    "!pip install jamo"
   ]
  },
  {
   "cell_type": "code",
   "execution_count": 7,
   "metadata": {
    "id": "R6Hz2eN1HYWE"
   },
   "outputs": [],
   "source": [
    "import pandas as pd"
   ]
  },
  {
   "cell_type": "code",
   "execution_count": 149,
   "metadata": {
    "id": "8wA8FjSMJapi"
   },
   "outputs": [],
   "source": [
    "from jamo import h2j, j2hcj"
   ]
  },
  {
   "cell_type": "code",
   "execution_count": 163,
   "metadata": {
    "id": "kFtCiSkBHlZO"
   },
   "outputs": [],
   "source": [
    "root_dir = '/content/drive/MyDrive/Colab Notebooks/인공지능/해커톤 2차 baseline'\n",
    "mode = 'train'"
   ]
  },
  {
   "cell_type": "markdown",
   "metadata": {
    "id": "pxoxh_yX-AD9"
   },
   "source": [
    "# Ver_1\n",
    "## 1. input  \n",
    "새 벽 출 조 시 \\<SP\\> 야 영 적 극 \\<SP\\> 권 장 하 ㅂ 니 다 \\<SP\\> .  \n",
    "B_TI I_TI O O O \\<SP\\> O O O O \\<SP\\> O O O O O O \\<SP\\> O   \n",
    "\n",
    "##2. output\n",
    "ㅅㅐ ㅂㅕㄱ ㅊㅜㄹ ㅈㅗ ㅅㅣ \\<SP\\> ㅇㅑ ㅇㅕㅇ ㅈㅓㄱ ㄱㅡㄱ \\<SP\\> ㄱㅝㄴ ㅈㅏㅇ ㅎㅏ ㅂ ㄴㅣ ㄷㅏ \\<SP\\> .  \n",
    "B_TI I_TI O O O \\<SP\\> O O O O \\<SP\\> O O O O O O \\<SP\\> O  \n",
    "\n",
    "\n"
   ]
  },
  {
   "cell_type": "code",
   "execution_count": 164,
   "metadata": {
    "id": "KTuPTEkzHtog"
   },
   "outputs": [],
   "source": [
    "test = pd.read_csv(f'{root_dir}/ner_{mode}.txt',\n",
    "                   sep='\\t',\n",
    "                   quoting=csv.QUOTE_NONE,\n",
    "                   header=None,\n",
    "                   names=['sentence', 'ner'],\n",
    "                   index_col=0)\n",
    "test"
   ]
  },
  {
   "cell_type": "code",
   "execution_count": 165,
   "metadata": {
    "colab": {
     "base_uri": "https://localhost:8080/"
    },
    "id": "lbYlnlOAJBvq",
    "outputId": "c0940d21-9e34-4d7e-a359-2761368e4469"
   },
   "outputs": [
    {
     "name": "stdout",
     "output_type": "stream",
     "text": [
      "새 벽 출 조 시 <SP> 야 영 적 극 <SP> 권 장 하 ㅂ 니 다 <SP> .\n",
      "B_TI I_TI O O O <SP> O O O O <SP> O O O O O O <SP> O\n"
     ]
    }
   ],
   "source": [
    "print(test.iloc[0].sentence)\n",
    "print(test.iloc[0].ner)"
   ]
  },
  {
   "cell_type": "code",
   "execution_count": null,
   "metadata": {
    "id": "ZtCxh0a4KNEn"
   },
   "outputs": [],
   "source": [
    "#j2hcj(h2j(test['sentence'].iloc[0]))"
   ]
  },
  {
   "cell_type": "code",
   "execution_count": 166,
   "metadata": {
    "colab": {
     "base_uri": "https://localhost:8080/",
     "height": 402
    },
    "id": "gp4PwWblKvMC",
    "outputId": "e6d2f124-5dfc-4dcd-ed45-3230e5e96627"
   },
   "outputs": [
    {
     "data": {
      "text/html": [
       "<div>\n",
       "<style scoped>\n",
       "    .dataframe tbody tr th:only-of-type {\n",
       "        vertical-align: middle;\n",
       "    }\n",
       "\n",
       "    .dataframe tbody tr th {\n",
       "        vertical-align: top;\n",
       "    }\n",
       "\n",
       "    .dataframe thead th {\n",
       "        text-align: right;\n",
       "    }\n",
       "</style>\n",
       "<table border=\"1\" class=\"dataframe\">\n",
       "  <thead>\n",
       "    <tr style=\"text-align: right;\">\n",
       "      <th></th>\n",
       "      <th>sentence</th>\n",
       "      <th>ner</th>\n",
       "    </tr>\n",
       "  </thead>\n",
       "  <tbody>\n",
       "    <tr>\n",
       "      <th>366</th>\n",
       "      <td>새 벽 출 조 시 &lt;SP&gt; 야 영 적 극 &lt;SP&gt; 권 ...</td>\n",
       "      <td>B_TI I_TI O O O &lt;SP&gt; O O O O &lt;SP&gt; O O O O O O ...</td>\n",
       "    </tr>\n",
       "    <tr>\n",
       "      <th>367</th>\n",
       "      <td>한 편 &lt;SP&gt; 대 표 팀 은 &lt;SP&gt; 이 날 &lt;SP&gt; 거...</td>\n",
       "      <td>O O &lt;SP&gt; B_OG I_OG I_OG O &lt;SP&gt; O O &lt;SP&gt; B_OG I...</td>\n",
       "    </tr>\n",
       "    <tr>\n",
       "      <th>368</th>\n",
       "      <td>' 천 재 &lt;SP&gt; 골 잡 이 ' &lt;SP&gt; 박 주 영 ( 2...</td>\n",
       "      <td>O B_PS I_PS &lt;SP&gt; I_PS I_PS I_PS O &lt;SP&gt; B_PS I_...</td>\n",
       "    </tr>\n",
       "    <tr>\n",
       "      <th>369</th>\n",
       "      <td>이 건 희 &lt;SP&gt; 전 &lt;SP&gt; 회 장 , &lt;SP&gt; \" 모 든...</td>\n",
       "      <td>B_PS I_PS I_PS &lt;SP&gt; O &lt;SP&gt; O O O &lt;SP&gt; O O O &lt;S...</td>\n",
       "    </tr>\n",
       "    <tr>\n",
       "      <th>370</th>\n",
       "      <td>민 주 노 동 당 &lt;SP&gt; 곽 정 숙 &lt;SP&gt; 의 원...</td>\n",
       "      <td>B_OG I_OG I_OG I_OG I_OG &lt;SP&gt; B_PS I_PS I_PS &lt;...</td>\n",
       "    </tr>\n",
       "    <tr>\n",
       "      <th>...</th>\n",
       "      <td>...</td>\n",
       "      <td>...</td>\n",
       "    </tr>\n",
       "    <tr>\n",
       "      <th>7680</th>\n",
       "      <td>산 과 &lt;SP&gt; 들 은 &lt;SP&gt; 옛 날 &lt;SP&gt; 그 대 로...</td>\n",
       "      <td>O O &lt;SP&gt; O O &lt;SP&gt; O O &lt;SP&gt; O O O O O O O &lt;SP&gt; ...</td>\n",
       "    </tr>\n",
       "    <tr>\n",
       "      <th>7681</th>\n",
       "      <td>드 디 어 &lt;SP&gt; 쇼 단 이 &lt;SP&gt; 해 체 되 고 &lt;SP&gt; ...</td>\n",
       "      <td>O O O &lt;SP&gt; O O O &lt;SP&gt; O O O O &lt;SP&gt; O O O &lt;SP&gt; ...</td>\n",
       "    </tr>\n",
       "    <tr>\n",
       "      <th>7682</th>\n",
       "      <td>이 를 &lt;SP&gt; 위 하 아 서 도 &lt;SP&gt; 독 도 가 &lt;SP&gt;...</td>\n",
       "      <td>O O &lt;SP&gt; O O O O O &lt;SP&gt; B_LC I_LC O &lt;SP&gt; B_LC ...</td>\n",
       "    </tr>\n",
       "    <tr>\n",
       "      <th>7683</th>\n",
       "      <td>실 제 로 &lt;SP&gt; 대 우 가 &lt;SP&gt; 현 재 &lt;SP&gt; 분 ᄋ...</td>\n",
       "      <td>O O O &lt;SP&gt; B_OG I_OG O &lt;SP&gt; O O &lt;SP&gt; O O O O O...</td>\n",
       "    </tr>\n",
       "    <tr>\n",
       "      <th>7684</th>\n",
       "      <td>맷 &lt;SP&gt; 데 이 먼 은 &lt;SP&gt; 퍼 트 리 샤 &lt;SP&gt; ᄒ...</td>\n",
       "      <td>B_PS &lt;SP&gt; I_PS I_PS I_PS O &lt;SP&gt; B_PS I_PS I_PS...</td>\n",
       "    </tr>\n",
       "  </tbody>\n",
       "</table>\n",
       "<p>7319 rows × 2 columns</p>\n",
       "</div>"
      ],
      "text/plain": [
       "                                               sentence                                                ner\n",
       "366   새 벽 출 조 시 <SP> 야 영 적 극 <SP> 권 ...  B_TI I_TI O O O <SP> O O O O <SP> O O O O O O ...\n",
       "367   한 편 <SP> 대 표 팀 은 <SP> 이 날 <SP> 거...  O O <SP> B_OG I_OG I_OG O <SP> O O <SP> B_OG I...\n",
       "368   ' 천 재 <SP> 골 잡 이 ' <SP> 박 주 영 ( 2...  O B_PS I_PS <SP> I_PS I_PS I_PS O <SP> B_PS I_...\n",
       "369   이 건 희 <SP> 전 <SP> 회 장 , <SP> \" 모 든...  B_PS I_PS I_PS <SP> O <SP> O O O <SP> O O O <S...\n",
       "370   민 주 노 동 당 <SP> 곽 정 숙 <SP> 의 원...  B_OG I_OG I_OG I_OG I_OG <SP> B_PS I_PS I_PS <...\n",
       "...                                                 ...                                                ...\n",
       "7680  산 과 <SP> 들 은 <SP> 옛 날 <SP> 그 대 로...  O O <SP> O O <SP> O O <SP> O O O O O O O <SP> ...\n",
       "7681  드 디 어 <SP> 쇼 단 이 <SP> 해 체 되 고 <SP> ...  O O O <SP> O O O <SP> O O O O <SP> O O O <SP> ...\n",
       "7682  이 를 <SP> 위 하 아 서 도 <SP> 독 도 가 <SP>...  O O <SP> O O O O O <SP> B_LC I_LC O <SP> B_LC ...\n",
       "7683  실 제 로 <SP> 대 우 가 <SP> 현 재 <SP> 분 ᄋ...  O O O <SP> B_OG I_OG O <SP> O O <SP> O O O O O...\n",
       "7684  맷 <SP> 데 이 먼 은 <SP> 퍼 트 리 샤 <SP> ᄒ...  B_PS <SP> I_PS I_PS I_PS O <SP> B_PS I_PS I_PS...\n",
       "\n",
       "[7319 rows x 2 columns]"
      ]
     },
     "execution_count": 166,
     "metadata": {
      "tags": []
     },
     "output_type": "execute_result"
    }
   ],
   "source": [
    "test.sentence = test.sentence.apply(h2j)\n",
    "test"
   ]
  },
  {
   "cell_type": "code",
   "execution_count": 167,
   "metadata": {
    "colab": {
     "base_uri": "https://localhost:8080/",
     "height": 402
    },
    "id": "-wrdzSAvNXhC",
    "outputId": "c462565d-5667-46f2-bde0-42f78f7aae06"
   },
   "outputs": [
    {
     "data": {
      "text/html": [
       "<div>\n",
       "<style scoped>\n",
       "    .dataframe tbody tr th:only-of-type {\n",
       "        vertical-align: middle;\n",
       "    }\n",
       "\n",
       "    .dataframe tbody tr th {\n",
       "        vertical-align: top;\n",
       "    }\n",
       "\n",
       "    .dataframe thead th {\n",
       "        text-align: right;\n",
       "    }\n",
       "</style>\n",
       "<table border=\"1\" class=\"dataframe\">\n",
       "  <thead>\n",
       "    <tr style=\"text-align: right;\">\n",
       "      <th></th>\n",
       "      <th>sentence</th>\n",
       "      <th>ner</th>\n",
       "    </tr>\n",
       "  </thead>\n",
       "  <tbody>\n",
       "    <tr>\n",
       "      <th>366</th>\n",
       "      <td>ㅅㅐ ㅂㅕㄱ ㅊㅜㄹ ㅈㅗ ㅅㅣ &lt;SP&gt; ㅇㅑ ㅇㅕㅇ ㅈㅓㄱ ㄱㅡㄱ &lt;SP&gt; ㄱㅝㄴ ...</td>\n",
       "      <td>B_TI I_TI O O O &lt;SP&gt; O O O O &lt;SP&gt; O O O O O O ...</td>\n",
       "    </tr>\n",
       "    <tr>\n",
       "      <th>367</th>\n",
       "      <td>ㅎㅏㄴ ㅍㅕㄴ &lt;SP&gt; ㄷㅐ ㅍㅛ ㅌㅣㅁ ㅇㅡㄴ &lt;SP&gt; ㅇㅣ ㄴㅏㄹ &lt;SP&gt; ㄱㅓ...</td>\n",
       "      <td>O O &lt;SP&gt; B_OG I_OG I_OG O &lt;SP&gt; O O &lt;SP&gt; B_OG I...</td>\n",
       "    </tr>\n",
       "    <tr>\n",
       "      <th>368</th>\n",
       "      <td>' ㅊㅓㄴ ㅈㅐ &lt;SP&gt; ㄱㅗㄹ ㅈㅏㅂ ㅇㅣ ' &lt;SP&gt; ㅂㅏㄱ ㅈㅜ ㅇㅕㅇ ( 2...</td>\n",
       "      <td>O B_PS I_PS &lt;SP&gt; I_PS I_PS I_PS O &lt;SP&gt; B_PS I_...</td>\n",
       "    </tr>\n",
       "    <tr>\n",
       "      <th>369</th>\n",
       "      <td>ㅇㅣ ㄱㅓㄴ ㅎㅢ &lt;SP&gt; ㅈㅓㄴ &lt;SP&gt; ㅎㅚ ㅈㅏㅇ , &lt;SP&gt; \" ㅁㅗ ㄷㅡㄴ...</td>\n",
       "      <td>B_PS I_PS I_PS &lt;SP&gt; O &lt;SP&gt; O O O &lt;SP&gt; O O O &lt;S...</td>\n",
       "    </tr>\n",
       "    <tr>\n",
       "      <th>370</th>\n",
       "      <td>ㅁㅣㄴ ㅈㅜ ㄴㅗ ㄷㅗㅇ ㄷㅏㅇ &lt;SP&gt; ㄱㅘㄱ ㅈㅓㅇ ㅅㅜㄱ &lt;SP&gt; ㅇㅢ ㅇㅝㄴ...</td>\n",
       "      <td>B_OG I_OG I_OG I_OG I_OG &lt;SP&gt; B_PS I_PS I_PS &lt;...</td>\n",
       "    </tr>\n",
       "    <tr>\n",
       "      <th>...</th>\n",
       "      <td>...</td>\n",
       "      <td>...</td>\n",
       "    </tr>\n",
       "    <tr>\n",
       "      <th>7680</th>\n",
       "      <td>ㅅㅏㄴ ㄱㅘ &lt;SP&gt; ㄷㅡㄹ ㅇㅡㄴ &lt;SP&gt; ㅇㅖㅅ ㄴㅏㄹ &lt;SP&gt; ㄱㅡ ㄷㅐ ㄹㅗ...</td>\n",
       "      <td>O O &lt;SP&gt; O O &lt;SP&gt; O O &lt;SP&gt; O O O O O O O &lt;SP&gt; ...</td>\n",
       "    </tr>\n",
       "    <tr>\n",
       "      <th>7681</th>\n",
       "      <td>ㄷㅡ ㄷㅣ ㅇㅓ &lt;SP&gt; ㅅㅛ ㄷㅏㄴ ㅇㅣ &lt;SP&gt; ㅎㅐ ㅊㅔ ㄷㅚ ㄱㅗ &lt;SP&gt; ...</td>\n",
       "      <td>O O O &lt;SP&gt; O O O &lt;SP&gt; O O O O &lt;SP&gt; O O O &lt;SP&gt; ...</td>\n",
       "    </tr>\n",
       "    <tr>\n",
       "      <th>7682</th>\n",
       "      <td>ㅇㅣ ㄹㅡㄹ &lt;SP&gt; ㅇㅟ ㅎㅏ ㅇㅏ ㅅㅓ ㄷㅗ &lt;SP&gt; ㄷㅗㄱ ㄷㅗ ㄱㅏ &lt;SP&gt;...</td>\n",
       "      <td>O O &lt;SP&gt; O O O O O &lt;SP&gt; B_LC I_LC O &lt;SP&gt; B_LC ...</td>\n",
       "    </tr>\n",
       "    <tr>\n",
       "      <th>7683</th>\n",
       "      <td>ㅅㅣㄹ ㅈㅔ ㄹㅗ &lt;SP&gt; ㄷㅐ ㅇㅜ ㄱㅏ &lt;SP&gt; ㅎㅕㄴ ㅈㅐ &lt;SP&gt; ㅂㅜㄴ ㅇ...</td>\n",
       "      <td>O O O &lt;SP&gt; B_OG I_OG O &lt;SP&gt; O O &lt;SP&gt; O O O O O...</td>\n",
       "    </tr>\n",
       "    <tr>\n",
       "      <th>7684</th>\n",
       "      <td>ㅁㅐㅅ &lt;SP&gt; ㄷㅔ ㅇㅣ ㅁㅓㄴ ㅇㅡㄴ &lt;SP&gt; ㅍㅓ ㅌㅡ ㄹㅣ ㅅㅑ &lt;SP&gt; ㅎ...</td>\n",
       "      <td>B_PS &lt;SP&gt; I_PS I_PS I_PS O &lt;SP&gt; B_PS I_PS I_PS...</td>\n",
       "    </tr>\n",
       "  </tbody>\n",
       "</table>\n",
       "<p>7319 rows × 2 columns</p>\n",
       "</div>"
      ],
      "text/plain": [
       "                                               sentence                                                ner\n",
       "366   ㅅㅐ ㅂㅕㄱ ㅊㅜㄹ ㅈㅗ ㅅㅣ <SP> ㅇㅑ ㅇㅕㅇ ㅈㅓㄱ ㄱㅡㄱ <SP> ㄱㅝㄴ ...  B_TI I_TI O O O <SP> O O O O <SP> O O O O O O ...\n",
       "367   ㅎㅏㄴ ㅍㅕㄴ <SP> ㄷㅐ ㅍㅛ ㅌㅣㅁ ㅇㅡㄴ <SP> ㅇㅣ ㄴㅏㄹ <SP> ㄱㅓ...  O O <SP> B_OG I_OG I_OG O <SP> O O <SP> B_OG I...\n",
       "368   ' ㅊㅓㄴ ㅈㅐ <SP> ㄱㅗㄹ ㅈㅏㅂ ㅇㅣ ' <SP> ㅂㅏㄱ ㅈㅜ ㅇㅕㅇ ( 2...  O B_PS I_PS <SP> I_PS I_PS I_PS O <SP> B_PS I_...\n",
       "369   ㅇㅣ ㄱㅓㄴ ㅎㅢ <SP> ㅈㅓㄴ <SP> ㅎㅚ ㅈㅏㅇ , <SP> \" ㅁㅗ ㄷㅡㄴ...  B_PS I_PS I_PS <SP> O <SP> O O O <SP> O O O <S...\n",
       "370   ㅁㅣㄴ ㅈㅜ ㄴㅗ ㄷㅗㅇ ㄷㅏㅇ <SP> ㄱㅘㄱ ㅈㅓㅇ ㅅㅜㄱ <SP> ㅇㅢ ㅇㅝㄴ...  B_OG I_OG I_OG I_OG I_OG <SP> B_PS I_PS I_PS <...\n",
       "...                                                 ...                                                ...\n",
       "7680  ㅅㅏㄴ ㄱㅘ <SP> ㄷㅡㄹ ㅇㅡㄴ <SP> ㅇㅖㅅ ㄴㅏㄹ <SP> ㄱㅡ ㄷㅐ ㄹㅗ...  O O <SP> O O <SP> O O <SP> O O O O O O O <SP> ...\n",
       "7681  ㄷㅡ ㄷㅣ ㅇㅓ <SP> ㅅㅛ ㄷㅏㄴ ㅇㅣ <SP> ㅎㅐ ㅊㅔ ㄷㅚ ㄱㅗ <SP> ...  O O O <SP> O O O <SP> O O O O <SP> O O O <SP> ...\n",
       "7682  ㅇㅣ ㄹㅡㄹ <SP> ㅇㅟ ㅎㅏ ㅇㅏ ㅅㅓ ㄷㅗ <SP> ㄷㅗㄱ ㄷㅗ ㄱㅏ <SP>...  O O <SP> O O O O O <SP> B_LC I_LC O <SP> B_LC ...\n",
       "7683  ㅅㅣㄹ ㅈㅔ ㄹㅗ <SP> ㄷㅐ ㅇㅜ ㄱㅏ <SP> ㅎㅕㄴ ㅈㅐ <SP> ㅂㅜㄴ ㅇ...  O O O <SP> B_OG I_OG O <SP> O O <SP> O O O O O...\n",
       "7684  ㅁㅐㅅ <SP> ㄷㅔ ㅇㅣ ㅁㅓㄴ ㅇㅡㄴ <SP> ㅍㅓ ㅌㅡ ㄹㅣ ㅅㅑ <SP> ㅎ...  B_PS <SP> I_PS I_PS I_PS O <SP> B_PS I_PS I_PS...\n",
       "\n",
       "[7319 rows x 2 columns]"
      ]
     },
     "execution_count": 167,
     "metadata": {
      "tags": []
     },
     "output_type": "execute_result"
    }
   ],
   "source": [
    "test.sentence = test.sentence.apply(j2hcj)\n",
    "test"
   ]
  },
  {
   "cell_type": "code",
   "execution_count": 168,
   "metadata": {
    "colab": {
     "base_uri": "https://localhost:8080/"
    },
    "id": "taLJ_SX2-TIk",
    "outputId": "8e48bfce-830f-462f-d652-6572a722032b"
   },
   "outputs": [
    {
     "name": "stdout",
     "output_type": "stream",
     "text": [
      "ㅅㅐ ㅂㅕㄱ ㅊㅜㄹ ㅈㅗ ㅅㅣ <SP> ㅇㅑ ㅇㅕㅇ ㅈㅓㄱ ㄱㅡㄱ <SP> ㄱㅝㄴ ㅈㅏㅇ ㅎㅏ ㅂ ㄴㅣ ㄷㅏ <SP> .\n",
      "B_TI I_TI O O O <SP> O O O O <SP> O O O O O O <SP> O\n"
     ]
    }
   ],
   "source": [
    "print(test.iloc[0].sentence)\n",
    "print(test.iloc[0].ner)"
   ]
  },
  {
   "cell_type": "code",
   "execution_count": 153,
   "metadata": {
    "id": "johYdctyNxaT"
   },
   "outputs": [],
   "source": [
    "import csv\n",
    "test.to_csv(f'ner_jamo_{mode}_ver_1.txt', sep='\\t',header=False, quoting=csv.QUOTE_NONE, escapechar='\\\\')"
   ]
  },
  {
   "cell_type": "code",
   "execution_count": null,
   "metadata": {
    "id": "63NmY1CvOX_j"
   },
   "outputs": [],
   "source": []
  },
  {
   "cell_type": "markdown",
   "metadata": {
    "id": "myVIP8M4UnRc"
   },
   "source": [
    "# Ver_2\n",
    "## 1. input  \n",
    "새 벽 출 조 시 \\<SP\\> 야 영 적 극 \\<SP\\> 권 장 하 ㅂ 니 다 \\<SP\\> .  \n",
    "B_TI I_TI O O O \\<SP\\> O O O O \\<SP\\> O O O O O O \\<SP\\> O  \n",
    "\n",
    "##2. output\n",
    "ㅅㅐ ㅂㅕㄱ ㅊㅜㄹ ㅈㅗ ㅅㅣ \\<SP\\> ㅇㅑ ㅇㅕㅇ ㅈㅓㄱ ㄱㅡㄱ \\<SP\\> ㄱㅝㄴ ㅈㅏㅇ ㅎㅏ ㅂ ㄴㅣ ㄷㅏ \\<SP\\> .  \n",
    "B_TI B_TI I_TI I_TI I_TI O O O O O O O \\<SP\\> O O O O O O O O O O O \\<SP\\> O O O O O O O O O O O O O \\<SP\\> O  "
   ]
  },
  {
   "cell_type": "code",
   "execution_count": 169,
   "metadata": {
    "colab": {
     "base_uri": "https://localhost:8080/",
     "height": 402
    },
    "id": "okyj8vkZUnYX",
    "outputId": "e1e1eca0-0a53-4be4-b946-33c215b32ef9"
   },
   "outputs": [
    {
     "data": {
      "text/html": [
       "<div>\n",
       "<style scoped>\n",
       "    .dataframe tbody tr th:only-of-type {\n",
       "        vertical-align: middle;\n",
       "    }\n",
       "\n",
       "    .dataframe tbody tr th {\n",
       "        vertical-align: top;\n",
       "    }\n",
       "\n",
       "    .dataframe thead th {\n",
       "        text-align: right;\n",
       "    }\n",
       "</style>\n",
       "<table border=\"1\" class=\"dataframe\">\n",
       "  <thead>\n",
       "    <tr style=\"text-align: right;\">\n",
       "      <th></th>\n",
       "      <th>sentence</th>\n",
       "      <th>ner</th>\n",
       "    </tr>\n",
       "  </thead>\n",
       "  <tbody>\n",
       "    <tr>\n",
       "      <th>366</th>\n",
       "      <td>새 벽 출 조 시 &lt;SP&gt; 야 영 적 극 &lt;SP&gt; 권 장 하 ㅂ 니 다 &lt;SP&gt; .</td>\n",
       "      <td>B_TI I_TI O O O &lt;SP&gt; O O O O &lt;SP&gt; O O O O O O ...</td>\n",
       "    </tr>\n",
       "    <tr>\n",
       "      <th>367</th>\n",
       "      <td>한 편 &lt;SP&gt; 대 표 팀 은 &lt;SP&gt; 이 날 &lt;SP&gt; 건 국 대 와 &lt;SP&gt; 3 ...</td>\n",
       "      <td>O O &lt;SP&gt; B_OG I_OG I_OG O &lt;SP&gt; O O &lt;SP&gt; B_OG I...</td>\n",
       "    </tr>\n",
       "    <tr>\n",
       "      <th>368</th>\n",
       "      <td>' 천 재 &lt;SP&gt; 골 잡 이 ' &lt;SP&gt; 박 주 영 ( 2 0 . 서 울 ) 이 ...</td>\n",
       "      <td>O B_PS I_PS &lt;SP&gt; I_PS I_PS I_PS O &lt;SP&gt; B_PS I_...</td>\n",
       "    </tr>\n",
       "    <tr>\n",
       "      <th>369</th>\n",
       "      <td>이 건 희 &lt;SP&gt; 전 &lt;SP&gt; 회 장 , &lt;SP&gt; \" 모 든 &lt;SP&gt; 국 민 이 ...</td>\n",
       "      <td>B_PS I_PS I_PS &lt;SP&gt; O &lt;SP&gt; O O O &lt;SP&gt; O O O &lt;S...</td>\n",
       "    </tr>\n",
       "    <tr>\n",
       "      <th>370</th>\n",
       "      <td>민 주 노 동 당 &lt;SP&gt; 곽 정 숙 &lt;SP&gt; 의 원 이 &lt;SP&gt; 보 건 복 지 가...</td>\n",
       "      <td>B_OG I_OG I_OG I_OG I_OG &lt;SP&gt; B_PS I_PS I_PS &lt;...</td>\n",
       "    </tr>\n",
       "    <tr>\n",
       "      <th>...</th>\n",
       "      <td>...</td>\n",
       "      <td>...</td>\n",
       "    </tr>\n",
       "    <tr>\n",
       "      <th>7680</th>\n",
       "      <td>산 과 &lt;SP&gt; 들 은 &lt;SP&gt; 옛 날 &lt;SP&gt; 그 대 로 이 었 으 나 &lt;SP&gt; ...</td>\n",
       "      <td>O O &lt;SP&gt; O O &lt;SP&gt; O O &lt;SP&gt; O O O O O O O &lt;SP&gt; ...</td>\n",
       "    </tr>\n",
       "    <tr>\n",
       "      <th>7681</th>\n",
       "      <td>드 디 어 &lt;SP&gt; 쇼 단 이 &lt;SP&gt; 해 체 되 고 &lt;SP&gt; 나 아 서 &lt;SP&gt; ...</td>\n",
       "      <td>O O O &lt;SP&gt; O O O &lt;SP&gt; O O O O &lt;SP&gt; O O O &lt;SP&gt; ...</td>\n",
       "    </tr>\n",
       "    <tr>\n",
       "      <th>7682</th>\n",
       "      <td>이 를 &lt;SP&gt; 위 하 아 서 도 &lt;SP&gt; 독 도 가 &lt;SP&gt; 일 본 &lt;SP&gt; 영 ...</td>\n",
       "      <td>O O &lt;SP&gt; O O O O O &lt;SP&gt; B_LC I_LC O &lt;SP&gt; B_LC ...</td>\n",
       "    </tr>\n",
       "    <tr>\n",
       "      <th>7683</th>\n",
       "      <td>실 제 로 &lt;SP&gt; 대 우 가 &lt;SP&gt; 현 재 &lt;SP&gt; 분 양 중 이 ㄴ &lt;SP&gt; ...</td>\n",
       "      <td>O O O &lt;SP&gt; B_OG I_OG O &lt;SP&gt; O O &lt;SP&gt; O O O O O...</td>\n",
       "    </tr>\n",
       "    <tr>\n",
       "      <th>7684</th>\n",
       "      <td>맷 &lt;SP&gt; 데 이 먼 은 &lt;SP&gt; 퍼 트 리 샤 &lt;SP&gt; 하 이 스 미 스 의 &lt;...</td>\n",
       "      <td>B_PS &lt;SP&gt; I_PS I_PS I_PS O &lt;SP&gt; B_PS I_PS I_PS...</td>\n",
       "    </tr>\n",
       "  </tbody>\n",
       "</table>\n",
       "<p>7319 rows × 2 columns</p>\n",
       "</div>"
      ],
      "text/plain": [
       "                                               sentence                                                ner\n",
       "366      새 벽 출 조 시 <SP> 야 영 적 극 <SP> 권 장 하 ㅂ 니 다 <SP> .  B_TI I_TI O O O <SP> O O O O <SP> O O O O O O ...\n",
       "367   한 편 <SP> 대 표 팀 은 <SP> 이 날 <SP> 건 국 대 와 <SP> 3 ...  O O <SP> B_OG I_OG I_OG O <SP> O O <SP> B_OG I...\n",
       "368   ' 천 재 <SP> 골 잡 이 ' <SP> 박 주 영 ( 2 0 . 서 울 ) 이 ...  O B_PS I_PS <SP> I_PS I_PS I_PS O <SP> B_PS I_...\n",
       "369   이 건 희 <SP> 전 <SP> 회 장 , <SP> \" 모 든 <SP> 국 민 이 ...  B_PS I_PS I_PS <SP> O <SP> O O O <SP> O O O <S...\n",
       "370   민 주 노 동 당 <SP> 곽 정 숙 <SP> 의 원 이 <SP> 보 건 복 지 가...  B_OG I_OG I_OG I_OG I_OG <SP> B_PS I_PS I_PS <...\n",
       "...                                                 ...                                                ...\n",
       "7680  산 과 <SP> 들 은 <SP> 옛 날 <SP> 그 대 로 이 었 으 나 <SP> ...  O O <SP> O O <SP> O O <SP> O O O O O O O <SP> ...\n",
       "7681  드 디 어 <SP> 쇼 단 이 <SP> 해 체 되 고 <SP> 나 아 서 <SP> ...  O O O <SP> O O O <SP> O O O O <SP> O O O <SP> ...\n",
       "7682  이 를 <SP> 위 하 아 서 도 <SP> 독 도 가 <SP> 일 본 <SP> 영 ...  O O <SP> O O O O O <SP> B_LC I_LC O <SP> B_LC ...\n",
       "7683  실 제 로 <SP> 대 우 가 <SP> 현 재 <SP> 분 양 중 이 ㄴ <SP> ...  O O O <SP> B_OG I_OG O <SP> O O <SP> O O O O O...\n",
       "7684  맷 <SP> 데 이 먼 은 <SP> 퍼 트 리 샤 <SP> 하 이 스 미 스 의 <...  B_PS <SP> I_PS I_PS I_PS O <SP> B_PS I_PS I_PS...\n",
       "\n",
       "[7319 rows x 2 columns]"
      ]
     },
     "execution_count": 169,
     "metadata": {
      "tags": []
     },
     "output_type": "execute_result"
    }
   ],
   "source": [
    "test = pd.read_csv(f'{root_dir}/ner_{mode}.txt',\n",
    "                   sep='\\t',\n",
    "                   quoting=csv.QUOTE_NONE,\n",
    "                   header=None,\n",
    "                   names=['sentence', 'ner'],\n",
    "                   index_col=0, \n",
    "                   encoding='utf8')\n",
    "test"
   ]
  },
  {
   "cell_type": "code",
   "execution_count": 170,
   "metadata": {
    "colab": {
     "base_uri": "https://localhost:8080/"
    },
    "id": "-wUDf4m49mF-",
    "outputId": "f41909df-f9e2-48d6-b730-04c036088839"
   },
   "outputs": [
    {
     "name": "stdout",
     "output_type": "stream",
     "text": [
      "새 벽 출 조 시 <SP> 야 영 적 극 <SP> 권 장 하 ㅂ 니 다 <SP> .\n",
      "B_TI I_TI O O O <SP> O O O O <SP> O O O O O O <SP> O\n"
     ]
    }
   ],
   "source": [
    "print(test.iloc[0].sentence)\n",
    "print(test.iloc[0].ner)"
   ]
  },
  {
   "cell_type": "code",
   "execution_count": 171,
   "metadata": {
    "id": "I9TNIwFxiSqK"
   },
   "outputs": [],
   "source": [
    "def isKorean(word):\n",
    "    for i in word:\n",
    "        if ord(i) > int('0x1100',16) and ord(i) < int('0x11ff',16) :\n",
    "            return True\n",
    "        if ord(i) > int('0x3131',16) and ord(i) < int('0x318e',16) :\n",
    "            return True\n",
    "        if ord(i) > int('0xa960',16) and ord(i) < int('0xa97c',16) :\n",
    "            return True\n",
    "        if ord(i) > int('0xac00',16) and ord(i) < int('0xd7a3',16) :\n",
    "            return True\n",
    "        if ord(i) > int('0xd7b0',16) and ord(i) < int('0xd7fb',16) :\n",
    "            return True\n",
    "    return False"
   ]
  },
  {
   "cell_type": "code",
   "execution_count": 173,
   "metadata": {
    "id": "rHE_E0t8UoHV"
   },
   "outputs": [],
   "source": [
    "\n",
    "\n",
    "# for i in test.index:\n",
    "#   print(i)\n",
    "#   out_sentence, out_ner = [], []\n",
    "#   sentence, ner = test.loc[i]\n",
    "#   print(sentence)\n",
    "#   s_list, ner_list = sentence.split(' '), ner.split(' ')\n",
    "#   assert len(s_list) == len(ner_list)\n",
    "#   for j, s in enumerate(s_list):\n",
    "#     jamo = j2hcj(h2j(s))\n",
    "#     if isKorean(jamo):\n",
    "#       out_sentence.append(jamo)\n",
    "#       out_ner.extend([ner_list[j] for x in range(len(jamo))])\n",
    "#       #print(jamo, len(jamo))\n",
    "#     else:\n",
    "#       out_sentence.append(s)\n",
    "#       out_ner.append(ner_list[j])\n",
    "#   out_sentence = ' '.join(out_sentence)\n",
    "#   out_ner = ' '.join(out_ner)\n",
    "#   print(out_sentence)\n",
    "#   print(out_ner)\n",
    "\n",
    "#   break"
   ]
  },
  {
   "cell_type": "code",
   "execution_count": 174,
   "metadata": {
    "id": "mJPvfxMtVDpE"
   },
   "outputs": [],
   "source": [
    "for i in test.index:\n",
    "  #print(i)\n",
    "  out_sentence, out_ner = [], []\n",
    "  sentence, ner = test.loc[i]\n",
    "  #print(sentence)\n",
    "  s_list, ner_list = sentence.split(' '), ner.split(' ')\n",
    "  assert len(s_list) == len(ner_list), f'i : {i} \\n \\\n",
    "                                         s_list : {s_list} \\n \\\n",
    "                                         ner_list : {ner_list} \\n \\\n",
    "                                         {len(s_list)} {len(ner_list)}'\n",
    "  for j, s in enumerate(s_list):\n",
    "    jamo = j2hcj(h2j(s))\n",
    "    if isKorean(jamo):\n",
    "      out_sentence.append(jamo)\n",
    "      out_ner.extend([ner_list[j] for x in range(len(jamo))])\n",
    "      #print(jamo, len(jamo))\n",
    "    else:\n",
    "      out_sentence.append(s)\n",
    "      out_ner.append(ner_list[j])\n",
    "  out_sentence = ' '.join(out_sentence)\n",
    "  out_ner = ' '.join(out_ner)\n",
    "  \n",
    "  test.loc[i].sentence = out_sentence\n",
    "  test.loc[i].ner = out_ner"
   ]
  },
  {
   "cell_type": "code",
   "execution_count": 175,
   "metadata": {
    "colab": {
     "base_uri": "https://localhost:8080/"
    },
    "id": "O1ouJsf_-vSB",
    "outputId": "f4885487-6ef7-4715-d766-4142611e6cb1"
   },
   "outputs": [
    {
     "name": "stdout",
     "output_type": "stream",
     "text": [
      "ㅅㅐ ㅂㅕㄱ ㅊㅜㄹ ㅈㅗ ㅅㅣ <SP> ㅇㅑ ㅇㅕㅇ ㅈㅓㄱ ㄱㅡㄱ <SP> ㄱㅝㄴ ㅈㅏㅇ ㅎㅏ ㅂ ㄴㅣ ㄷㅏ <SP> .\n",
      "B_TI B_TI I_TI I_TI I_TI O O O O O O O <SP> O O O O O O O O O O O <SP> O O O O O O O O O O O O O <SP> O\n"
     ]
    }
   ],
   "source": [
    "print(test.iloc[0].sentence)\n",
    "print(test.iloc[0].ner)"
   ]
  },
  {
   "cell_type": "code",
   "execution_count": 176,
   "metadata": {
    "id": "obqhsmCLm6Xd"
   },
   "outputs": [],
   "source": [
    "#test.loc[835].sentence"
   ]
  },
  {
   "cell_type": "code",
   "execution_count": 159,
   "metadata": {
    "id": "jgAbZ7vfolmn"
   },
   "outputs": [],
   "source": [
    "test.to_csv(f'ner_jamo_{mode}_ver_2.txt', sep='\\t',header=False, quoting=csv.QUOTE_NONE, escapechar='\\\\')"
   ]
  },
  {
   "cell_type": "code",
   "execution_count": null,
   "metadata": {
    "id": "7Wz_Y-xU7ifK"
   },
   "outputs": [],
   "source": []
  }
 ],
 "metadata": {
  "colab": {
   "collapsed_sections": [],
   "name": "jamo.ipynb",
   "provenance": []
  },
  "kernelspec": {
   "display_name": "Python 3",
   "language": "python",
   "name": "python3"
  },
  "language_info": {
   "codemirror_mode": {
    "name": "ipython",
    "version": 3
   },
   "file_extension": ".py",
   "mimetype": "text/x-python",
   "name": "python",
   "nbconvert_exporter": "python",
   "pygments_lexer": "ipython3",
   "version": "3.8.2"
  }
 },
 "nbformat": 4,
 "nbformat_minor": 1
}
