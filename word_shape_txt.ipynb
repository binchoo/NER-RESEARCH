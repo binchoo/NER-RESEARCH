{
 "cells": [
  {
   "cell_type": "code",
   "execution_count": 1,
   "metadata": {
    "ExecuteTime": {
     "end_time": "2020-12-03T11:47:32.712810Z",
     "start_time": "2020-12-03T11:47:32.680998Z"
    }
   },
   "outputs": [],
   "source": [
    "import pandas as pd\n",
    "from tqdm import tqdm\n",
    "import numpy as np"
   ]
  },
  {
   "cell_type": "code",
   "execution_count": 2,
   "metadata": {
    "ExecuteTime": {
     "end_time": "2020-12-03T11:42:07.333498Z",
     "start_time": "2020-12-03T11:42:07.250150Z"
    }
   },
   "outputs": [
    {
     "data": {
      "text/html": [
       "<div>\n",
       "<style scoped>\n",
       "    .dataframe tbody tr th:only-of-type {\n",
       "        vertical-align: middle;\n",
       "    }\n",
       "\n",
       "    .dataframe tbody tr th {\n",
       "        vertical-align: top;\n",
       "    }\n",
       "\n",
       "    .dataframe thead th {\n",
       "        text-align: right;\n",
       "    }\n",
       "</style>\n",
       "<table border=\"1\" class=\"dataframe\">\n",
       "  <thead>\n",
       "    <tr style=\"text-align: right;\">\n",
       "      <th></th>\n",
       "      <th>sentence</th>\n",
       "      <th>ner</th>\n",
       "    </tr>\n",
       "  </thead>\n",
       "  <tbody>\n",
       "    <tr>\n",
       "      <th>366</th>\n",
       "      <td>새 벽 출 조 시 &lt;SP&gt; 야 영 적 극 &lt;SP&gt; 권 장 하 ㅂ 니 다 &lt;SP&gt; .</td>\n",
       "      <td>B_TI I_TI O O O &lt;SP&gt; O O O O &lt;SP&gt; O O O O O O ...</td>\n",
       "    </tr>\n",
       "    <tr>\n",
       "      <th>367</th>\n",
       "      <td>한 편 &lt;SP&gt; 대 표 팀 은 &lt;SP&gt; 이 날 &lt;SP&gt; 건 국 대 와 &lt;SP&gt; 3 ...</td>\n",
       "      <td>O O &lt;SP&gt; B_OG I_OG I_OG O &lt;SP&gt; O O &lt;SP&gt; B_OG I...</td>\n",
       "    </tr>\n",
       "    <tr>\n",
       "      <th>368</th>\n",
       "      <td>' 천 재 &lt;SP&gt; 골 잡 이 ' &lt;SP&gt; 박 주 영 ( 2 0 . 서 울 ) 이 ...</td>\n",
       "      <td>O B_PS I_PS &lt;SP&gt; I_PS I_PS I_PS O &lt;SP&gt; B_PS I_...</td>\n",
       "    </tr>\n",
       "    <tr>\n",
       "      <th>369</th>\n",
       "      <td>이 건 희 &lt;SP&gt; 전 &lt;SP&gt; 회 장 , &lt;SP&gt; \" 모 든 &lt;SP&gt; 국 민 이 ...</td>\n",
       "      <td>B_PS I_PS I_PS &lt;SP&gt; O &lt;SP&gt; O O O &lt;SP&gt; O O O &lt;S...</td>\n",
       "    </tr>\n",
       "    <tr>\n",
       "      <th>370</th>\n",
       "      <td>민 주 노 동 당 &lt;SP&gt; 곽 정 숙 &lt;SP&gt; 의 원 이 &lt;SP&gt; 보 건 복 지 가...</td>\n",
       "      <td>B_OG I_OG I_OG I_OG I_OG &lt;SP&gt; B_PS I_PS I_PS &lt;...</td>\n",
       "    </tr>\n",
       "    <tr>\n",
       "      <th>...</th>\n",
       "      <td>...</td>\n",
       "      <td>...</td>\n",
       "    </tr>\n",
       "    <tr>\n",
       "      <th>7680</th>\n",
       "      <td>산 과 &lt;SP&gt; 들 은 &lt;SP&gt; 옛 날 &lt;SP&gt; 그 대 로 이 었 으 나 &lt;SP&gt; ...</td>\n",
       "      <td>O O &lt;SP&gt; O O &lt;SP&gt; O O &lt;SP&gt; O O O O O O O &lt;SP&gt; ...</td>\n",
       "    </tr>\n",
       "    <tr>\n",
       "      <th>7681</th>\n",
       "      <td>드 디 어 &lt;SP&gt; 쇼 단 이 &lt;SP&gt; 해 체 되 고 &lt;SP&gt; 나 아 서 &lt;SP&gt; ...</td>\n",
       "      <td>O O O &lt;SP&gt; O O O &lt;SP&gt; O O O O &lt;SP&gt; O O O &lt;SP&gt; ...</td>\n",
       "    </tr>\n",
       "    <tr>\n",
       "      <th>7682</th>\n",
       "      <td>이 를 &lt;SP&gt; 위 하 아 서 도 &lt;SP&gt; 독 도 가 &lt;SP&gt; 일 본 &lt;SP&gt; 영 ...</td>\n",
       "      <td>O O &lt;SP&gt; O O O O O &lt;SP&gt; B_LC I_LC O &lt;SP&gt; B_LC ...</td>\n",
       "    </tr>\n",
       "    <tr>\n",
       "      <th>7683</th>\n",
       "      <td>실 제 로 &lt;SP&gt; 대 우 가 &lt;SP&gt; 현 재 &lt;SP&gt; 분 양 중 이 ㄴ &lt;SP&gt; ...</td>\n",
       "      <td>O O O &lt;SP&gt; B_OG I_OG O &lt;SP&gt; O O &lt;SP&gt; O O O O O...</td>\n",
       "    </tr>\n",
       "    <tr>\n",
       "      <th>7684</th>\n",
       "      <td>맷 &lt;SP&gt; 데 이 먼 은 &lt;SP&gt; 퍼 트 리 샤 &lt;SP&gt; 하 이 스 미 스 의 &lt;...</td>\n",
       "      <td>B_PS &lt;SP&gt; I_PS I_PS I_PS O &lt;SP&gt; B_PS I_PS I_PS...</td>\n",
       "    </tr>\n",
       "  </tbody>\n",
       "</table>\n",
       "<p>7301 rows × 2 columns</p>\n",
       "</div>"
      ],
      "text/plain": [
       "                                               sentence  \\\n",
       "366      새 벽 출 조 시 <SP> 야 영 적 극 <SP> 권 장 하 ㅂ 니 다 <SP> .   \n",
       "367   한 편 <SP> 대 표 팀 은 <SP> 이 날 <SP> 건 국 대 와 <SP> 3 ...   \n",
       "368   ' 천 재 <SP> 골 잡 이 ' <SP> 박 주 영 ( 2 0 . 서 울 ) 이 ...   \n",
       "369   이 건 희 <SP> 전 <SP> 회 장 , <SP> \" 모 든 <SP> 국 민 이 ...   \n",
       "370   민 주 노 동 당 <SP> 곽 정 숙 <SP> 의 원 이 <SP> 보 건 복 지 가...   \n",
       "...                                                 ...   \n",
       "7680  산 과 <SP> 들 은 <SP> 옛 날 <SP> 그 대 로 이 었 으 나 <SP> ...   \n",
       "7681  드 디 어 <SP> 쇼 단 이 <SP> 해 체 되 고 <SP> 나 아 서 <SP> ...   \n",
       "7682  이 를 <SP> 위 하 아 서 도 <SP> 독 도 가 <SP> 일 본 <SP> 영 ...   \n",
       "7683  실 제 로 <SP> 대 우 가 <SP> 현 재 <SP> 분 양 중 이 ㄴ <SP> ...   \n",
       "7684  맷 <SP> 데 이 먼 은 <SP> 퍼 트 리 샤 <SP> 하 이 스 미 스 의 <...   \n",
       "\n",
       "                                                    ner  \n",
       "366   B_TI I_TI O O O <SP> O O O O <SP> O O O O O O ...  \n",
       "367   O O <SP> B_OG I_OG I_OG O <SP> O O <SP> B_OG I...  \n",
       "368   O B_PS I_PS <SP> I_PS I_PS I_PS O <SP> B_PS I_...  \n",
       "369   B_PS I_PS I_PS <SP> O <SP> O O O <SP> O O O <S...  \n",
       "370   B_OG I_OG I_OG I_OG I_OG <SP> B_PS I_PS I_PS <...  \n",
       "...                                                 ...  \n",
       "7680  O O <SP> O O <SP> O O <SP> O O O O O O O <SP> ...  \n",
       "7681  O O O <SP> O O O <SP> O O O O <SP> O O O <SP> ...  \n",
       "7682  O O <SP> O O O O O <SP> B_LC I_LC O <SP> B_LC ...  \n",
       "7683  O O O <SP> B_OG I_OG O <SP> O O <SP> O O O O O...  \n",
       "7684  B_PS <SP> I_PS I_PS I_PS O <SP> B_PS I_PS I_PS...  \n",
       "\n",
       "[7301 rows x 2 columns]"
      ]
     },
     "execution_count": 2,
     "metadata": {},
     "output_type": "execute_result"
    }
   ],
   "source": [
    "mode = 'train'\n",
    "test = pd.read_csv(f'ner_{mode}.txt',\n",
    "                   sep='\\t',\n",
    "                   header=None,\n",
    "                   names=['sentence', 'ner'],\n",
    "                   index_col=0)\n",
    "test"
   ]
  },
  {
   "cell_type": "code",
   "execution_count": 3,
   "metadata": {
    "ExecuteTime": {
     "end_time": "2020-12-03T11:42:12.137138Z",
     "start_time": "2020-12-03T11:42:12.129138Z"
    }
   },
   "outputs": [
    {
     "name": "stdout",
     "output_type": "stream",
     "text": [
      "새 벽 출 조 시 <SP> 야 영 적 극 <SP> 권 장 하 ㅂ 니 다 <SP> .\n",
      "B_TI I_TI O O O <SP> O O O O <SP> O O O O O O <SP> O\n"
     ]
    }
   ],
   "source": [
    "print(test.iloc[0].sentence)\n",
    "print(test.iloc[0].ner)"
   ]
  },
  {
   "cell_type": "code",
   "execution_count": 6,
   "metadata": {
    "ExecuteTime": {
     "end_time": "2020-12-03T11:58:27.968690Z",
     "start_time": "2020-12-03T11:58:25.720990Z"
    }
   },
   "outputs": [
    {
     "name": "stderr",
     "output_type": "stream",
     "text": [
      "100%|██████████| 7319/7319 [00:00<00:00, 23565.84it/s]\n"
     ]
    }
   ],
   "source": [
    "file = open('ner_train.txt','r',encoding='utf8')\n",
    "\n",
    "# return할 문장/라벨 리스트 생성\n",
    "indexing_inputs, indexing_tags = [], []\n",
    "\n",
    "# 실제 데이터는 아래와 같은 형태를 가짐\n",
    "# 문장 \\t 태그\n",
    "# 세 종 대 왕 은 <SP> 조 선 의 <SP> 4 대 <SP> 왕 이 야 \\t B_PS I_PS I_PS I_PS O <SP> B_LC I_LC O <SP> O O <SP> O O O\n",
    "\n",
    "fw = open('word_shape.txt','w')\n",
    "\n",
    "for line in tqdm(file.readlines()):\n",
    "    try:\n",
    "        id, sentence, tags = line.strip().split('\\t')\n",
    "    except:\n",
    "        id, sentence = line.strip().split('\\t')\n",
    "\n",
    "# <단어모양 인덱딩 코드>\n",
    "\n",
    "#         print('input')\n",
    "#         print(sentence)\n",
    "\n",
    "# 스페이스로 나누기\n",
    "    wd = sentence.split('<SP>')\n",
    "    stc=[]\n",
    "    sample = \".,/;:+=-_'!@#$%^&*()_{}[]<>\"\n",
    "    for i in range(len(wd)):\n",
    "        word_shape=[]\n",
    "        wds = wd[i].split()\n",
    "        for j in range(len(wds)):\n",
    "            word = wds[j]\n",
    "            # 숫자이면 0\n",
    "            if word.isdigit() == True:\n",
    "                word_shape.append('0')\n",
    "#             # 영어이면 A\n",
    "#             elif word.encode().isalpha() == True:\n",
    "#                 word_shape.append('A')\n",
    "#             # 특수문자이면 S\n",
    "#             elif any(sym in word for sym in sample):\n",
    "#                 word_shape.append('S')\n",
    "#             # 한글이면 K\n",
    "            else:\n",
    "                word_shape.append(word)\n",
    "                \n",
    "        word_shape.append('<SP>')\n",
    "            \n",
    "        stc=stc+word_shape\n",
    "    stc.pop()\n",
    "    stc.append(' ')\n",
    "    sentence=\" \".join(stc)\n",
    "    fw.write(sentence)\n",
    "    fw.write(tags)\n",
    "    fw.write('\\n')"
   ]
  },
  {
   "cell_type": "code",
   "execution_count": 11,
   "metadata": {
    "ExecuteTime": {
     "end_time": "2020-12-03T12:00:54.971088Z",
     "start_time": "2020-12-03T12:00:54.803075Z"
    }
   },
   "outputs": [
    {
     "name": "stdout",
     "output_type": "stream",
     "text": [
      "새 벽 출 조 시 <SP> 야 영 적 극 <SP> 권 장 하 ㅂ 니 다 <SP> .  B_TI I_TI O O O <SP> O O O O <SP> O O O O O O <SP> O\n",
      "한 편 <SP> 대 표 팀 은 <SP> 이 날 <SP> 건 국 대 와 <SP> 0 세 트 로 <SP> 나 누 어 서 <SP> 진 행 되 ㄴ <SP> 연 습 경 기 에 서 <SP> 김 진 용 과 <SP> 이 동 국 , <SP> 백 지 훈 이 <SP> 나 란 히 <SP> 골 을 <SP> 터 트 리 어 <SP> 0 - 0 <SP> 승 리 를 <SP> 거 두 었 다 .  O O <SP> B_OG I_OG I_OG O <SP> O O <SP> B_OG I_OG I_OG O <SP> O O O O <SP> O O O O <SP> O O O O <SP> O O O O O O <SP> B_PS I_PS I_PS O <SP> B_PS I_PS I_PS O <SP> B_PS I_PS I_PS O <SP> O O O <SP> O O <SP> O O O O <SP> O O O <SP> O O O <SP> O O O O O\n",
      "' 천 재 <SP> 골 잡 이 ' <SP> 박 주 영 ( 0 0 . 서 울 ) 이 <SP> 프 로 축 구 <SP> K 리 그 에 서 <SP> 0 0 일 만 에 <SP> ' 골 폭 풍 ' 을 <SP> 몰 아 치 면 서 <SP> 정 규 리 그 <SP> 득 점 왕 을 <SP> 향 하 아 <SP> 본 격 적 이 ㄴ <SP> 골 사 냥 에 <SP> 재 시 동 을 <SP> 걷 었 다 .  O B_PS I_PS <SP> I_PS I_PS I_PS O <SP> B_PS I_PS I_PS O O O O B_OG I_OG O O <SP> O O O O <SP> B_OG I_OG I_OG O O <SP> B_DT I_DT I_DT O O <SP> O O O O O O <SP> O O O O O <SP> O O O O <SP> O O O O <SP> O O O <SP> O O O O O <SP> O O O \n"
     ]
    }
   ],
   "source": [
    "file = open('word_shape.txt','r',encoding='utf8')\n",
    "text = file.read()\n",
    "print(text[:1000])"
   ]
  },
  {
   "cell_type": "code",
   "execution_count": null,
   "metadata": {},
   "outputs": [],
   "source": []
  }
 ],
 "metadata": {
  "kernelspec": {
   "display_name": "Python 3",
   "language": "python",
   "name": "python3"
  },
  "language_info": {
   "codemirror_mode": {
    "name": "ipython",
    "version": 3
   },
   "file_extension": ".py",
   "mimetype": "text/x-python",
   "name": "python",
   "nbconvert_exporter": "python",
   "pygments_lexer": "ipython3",
   "version": "3.8.2"
  },
  "toc": {
   "base_numbering": 1,
   "nav_menu": {},
   "number_sections": true,
   "sideBar": true,
   "skip_h1_title": false,
   "title_cell": "Table of Contents",
   "title_sidebar": "Contents",
   "toc_cell": false,
   "toc_position": {},
   "toc_section_display": true,
   "toc_window_display": false
  },
  "varInspector": {
   "cols": {
    "lenName": 16,
    "lenType": 16,
    "lenVar": 40
   },
   "kernels_config": {
    "python": {
     "delete_cmd_postfix": "",
     "delete_cmd_prefix": "del ",
     "library": "var_list.py",
     "varRefreshCmd": "print(var_dic_list())"
    },
    "r": {
     "delete_cmd_postfix": ") ",
     "delete_cmd_prefix": "rm(",
     "library": "var_list.r",
     "varRefreshCmd": "cat(var_dic_list()) "
    }
   },
   "types_to_exclude": [
    "module",
    "function",
    "builtin_function_or_method",
    "instance",
    "_Feature"
   ],
   "window_display": false
  }
 },
 "nbformat": 4,
 "nbformat_minor": 2
}
