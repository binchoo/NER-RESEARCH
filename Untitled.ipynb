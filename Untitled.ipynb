{
 "cells": [
  {
   "cell_type": "code",
   "execution_count": 1,
   "metadata": {},
   "outputs": [],
   "source": [
    "from config import GazetteModelConfig, PostagModelConfig, CnnModelConfig, CnnGazetteModelConfig\n",
    "\n",
    "config = GazetteModelConfig(epoch=30)\n",
    "config2 = PostagModelConfig()\n",
    "config3 = CnnModelConfig()\n",
    "config4 = CnnGazetteModelConfig()"
   ]
  },
  {
   "cell_type": "code",
   "execution_count": 2,
   "metadata": {},
   "outputs": [
    {
     "data": {
      "text/plain": [
       "{'mode': 'train',\n",
       " 'root_dir': '.',\n",
       " 'train_file': 'ner_train.txt',\n",
       " 'dev_file': 'ner_dev.txt',\n",
       " 'word_vocab_file': 'vocab/word_vocab.txt',\n",
       " 'tag_vocab_file': 'vocab/tag_vocab.txt',\n",
       " 'trained_model_name': 'epoch_5.pt',\n",
       " 'output_dir_path': './output',\n",
       " 'word_vocab_size': 2160,\n",
       " 'number_of_tags': 14,\n",
       " 'hidden_size': 200,\n",
       " 'dropout': 0.2,\n",
       " 'embedding_size': 200,\n",
       " 'max_length': 150,\n",
       " 'batch_size': 64,\n",
       " 'epoch': 30,\n",
       " 'features': ['feature.gazetteer.GazetteFeature'],\n",
       " 'lr': 0.0003,\n",
       " 'gazette_feature_length': 7,\n",
       " 'ngrams': [3, 4, 5, 6, 7, 8, 9, 10]}"
      ]
     },
     "execution_count": 2,
     "metadata": {},
     "output_type": "execute_result"
    }
   ],
   "source": [
    "config.config_dict"
   ]
  },
  {
   "cell_type": "code",
   "execution_count": 3,
   "metadata": {},
   "outputs": [
    {
     "data": {
      "text/plain": [
       "{'mode': 'train',\n",
       " 'root_dir': '.',\n",
       " 'train_file': 'ner_train.txt',\n",
       " 'dev_file': 'ner_dev.txt',\n",
       " 'word_vocab_file': 'vocab/word_vocab.txt',\n",
       " 'tag_vocab_file': 'vocab/tag_vocab.txt',\n",
       " 'trained_model_name': 'epoch_5.pt',\n",
       " 'output_dir_path': './output',\n",
       " 'word_vocab_size': 2160,\n",
       " 'number_of_tags': 14,\n",
       " 'hidden_size': 200,\n",
       " 'dropout': 0.2,\n",
       " 'embedding_size': 200,\n",
       " 'max_length': 150,\n",
       " 'batch_size': 64,\n",
       " 'epoch': 20,\n",
       " 'features': None,\n",
       " 'lr': 0.0003,\n",
       " 'num_filters': 16}"
      ]
     },
     "execution_count": 3,
     "metadata": {},
     "output_type": "execute_result"
    }
   ],
   "source": [
    "config3.config_dict"
   ]
  },
  {
   "cell_type": "code",
   "execution_count": 4,
   "metadata": {},
   "outputs": [
    {
     "data": {
      "text/plain": [
       "{'mode': 'train',\n",
       " 'root_dir': '.',\n",
       " 'train_file': 'ner_train.txt',\n",
       " 'dev_file': 'ner_dev.txt',\n",
       " 'word_vocab_file': 'vocab/word_vocab.txt',\n",
       " 'tag_vocab_file': 'vocab/tag_vocab.txt',\n",
       " 'trained_model_name': 'epoch_5.pt',\n",
       " 'output_dir_path': './output',\n",
       " 'word_vocab_size': 2160,\n",
       " 'number_of_tags': 14,\n",
       " 'hidden_size': 200,\n",
       " 'dropout': 0.2,\n",
       " 'embedding_size': 200,\n",
       " 'max_length': 150,\n",
       " 'batch_size': 64,\n",
       " 'epoch': 20,\n",
       " 'features': ['feature.gazetteer.GazetteFeature'],\n",
       " 'lr': 0.0003,\n",
       " 'num_filters': 16,\n",
       " 'gazette_feature_length': 7,\n",
       " 'ngrams': [3, 4, 5, 6, 7, 8, 9, 10]}"
      ]
     },
     "execution_count": 4,
     "metadata": {},
     "output_type": "execute_result"
    }
   ],
   "source": [
    "config4.config_dict"
   ]
  },
  {
   "cell_type": "markdown",
   "metadata": {},
   "source": [
    "# Get All Organizations"
   ]
  },
  {
   "cell_type": "code",
   "execution_count": 68,
   "metadata": {},
   "outputs": [
    {
     "data": {
      "text/html": [
       "<div>\n",
       "<style scoped>\n",
       "    .dataframe tbody tr th:only-of-type {\n",
       "        vertical-align: middle;\n",
       "    }\n",
       "\n",
       "    .dataframe tbody tr th {\n",
       "        vertical-align: top;\n",
       "    }\n",
       "\n",
       "    .dataframe thead th {\n",
       "        text-align: right;\n",
       "    }\n",
       "</style>\n",
       "<table border=\"1\" class=\"dataframe\">\n",
       "  <thead>\n",
       "    <tr style=\"text-align: right;\">\n",
       "      <th></th>\n",
       "      <th>sentence</th>\n",
       "      <th>ner</th>\n",
       "    </tr>\n",
       "  </thead>\n",
       "  <tbody>\n",
       "    <tr>\n",
       "      <th>366</th>\n",
       "      <td>새 벽 출 조 시 &lt;SP&gt; 야 영 적 극 &lt;SP&gt; 권 장 하 ㅂ 니 다 &lt;SP&gt; .</td>\n",
       "      <td>B_TI I_TI O O O &lt;SP&gt; O O O O &lt;SP&gt; O O O O O O ...</td>\n",
       "    </tr>\n",
       "    <tr>\n",
       "      <th>367</th>\n",
       "      <td>한 편 &lt;SP&gt; 대 표 팀 은 &lt;SP&gt; 이 날 &lt;SP&gt; 건 국 대 와 &lt;SP&gt; 3 ...</td>\n",
       "      <td>O O &lt;SP&gt; B_OG I_OG I_OG O &lt;SP&gt; O O &lt;SP&gt; B_OG I...</td>\n",
       "    </tr>\n",
       "    <tr>\n",
       "      <th>368</th>\n",
       "      <td>' 천 재 &lt;SP&gt; 골 잡 이 ' &lt;SP&gt; 박 주 영 ( 2 0 . 서 울 ) 이 ...</td>\n",
       "      <td>O B_PS I_PS &lt;SP&gt; I_PS I_PS I_PS O &lt;SP&gt; B_PS I_...</td>\n",
       "    </tr>\n",
       "    <tr>\n",
       "      <th>369</th>\n",
       "      <td>이 건 희 &lt;SP&gt; 전 &lt;SP&gt; 회 장 , &lt;SP&gt; \" 모 든 &lt;SP&gt; 국 민 이 ...</td>\n",
       "      <td>B_PS I_PS I_PS &lt;SP&gt; O &lt;SP&gt; O O O &lt;SP&gt; O O O &lt;S...</td>\n",
       "    </tr>\n",
       "    <tr>\n",
       "      <th>370</th>\n",
       "      <td>민 주 노 동 당 &lt;SP&gt; 곽 정 숙 &lt;SP&gt; 의 원 이 &lt;SP&gt; 보 건 복 지 가...</td>\n",
       "      <td>B_OG I_OG I_OG I_OG I_OG &lt;SP&gt; B_PS I_PS I_PS &lt;...</td>\n",
       "    </tr>\n",
       "    <tr>\n",
       "      <th>...</th>\n",
       "      <td>...</td>\n",
       "      <td>...</td>\n",
       "    </tr>\n",
       "    <tr>\n",
       "      <th>7680</th>\n",
       "      <td>산 과 &lt;SP&gt; 들 은 &lt;SP&gt; 옛 날 &lt;SP&gt; 그 대 로 이 었 으 나 &lt;SP&gt; ...</td>\n",
       "      <td>O O &lt;SP&gt; O O &lt;SP&gt; O O &lt;SP&gt; O O O O O O O &lt;SP&gt; ...</td>\n",
       "    </tr>\n",
       "    <tr>\n",
       "      <th>7681</th>\n",
       "      <td>드 디 어 &lt;SP&gt; 쇼 단 이 &lt;SP&gt; 해 체 되 고 &lt;SP&gt; 나 아 서 &lt;SP&gt; ...</td>\n",
       "      <td>O O O &lt;SP&gt; O O O &lt;SP&gt; O O O O &lt;SP&gt; O O O &lt;SP&gt; ...</td>\n",
       "    </tr>\n",
       "    <tr>\n",
       "      <th>7682</th>\n",
       "      <td>이 를 &lt;SP&gt; 위 하 아 서 도 &lt;SP&gt; 독 도 가 &lt;SP&gt; 일 본 &lt;SP&gt; 영 ...</td>\n",
       "      <td>O O &lt;SP&gt; O O O O O &lt;SP&gt; B_LC I_LC O &lt;SP&gt; B_LC ...</td>\n",
       "    </tr>\n",
       "    <tr>\n",
       "      <th>7683</th>\n",
       "      <td>실 제 로 &lt;SP&gt; 대 우 가 &lt;SP&gt; 현 재 &lt;SP&gt; 분 양 중 이 ㄴ &lt;SP&gt; ...</td>\n",
       "      <td>O O O &lt;SP&gt; B_OG I_OG O &lt;SP&gt; O O &lt;SP&gt; O O O O O...</td>\n",
       "    </tr>\n",
       "    <tr>\n",
       "      <th>7684</th>\n",
       "      <td>맷 &lt;SP&gt; 데 이 먼 은 &lt;SP&gt; 퍼 트 리 샤 &lt;SP&gt; 하 이 스 미 스 의 &lt;...</td>\n",
       "      <td>B_PS &lt;SP&gt; I_PS I_PS I_PS O &lt;SP&gt; B_PS I_PS I_PS...</td>\n",
       "    </tr>\n",
       "  </tbody>\n",
       "</table>\n",
       "<p>7301 rows × 2 columns</p>\n",
       "</div>"
      ],
      "text/plain": [
       "                                               sentence  \\\n",
       "366      새 벽 출 조 시 <SP> 야 영 적 극 <SP> 권 장 하 ㅂ 니 다 <SP> .   \n",
       "367   한 편 <SP> 대 표 팀 은 <SP> 이 날 <SP> 건 국 대 와 <SP> 3 ...   \n",
       "368   ' 천 재 <SP> 골 잡 이 ' <SP> 박 주 영 ( 2 0 . 서 울 ) 이 ...   \n",
       "369   이 건 희 <SP> 전 <SP> 회 장 , <SP> \" 모 든 <SP> 국 민 이 ...   \n",
       "370   민 주 노 동 당 <SP> 곽 정 숙 <SP> 의 원 이 <SP> 보 건 복 지 가...   \n",
       "...                                                 ...   \n",
       "7680  산 과 <SP> 들 은 <SP> 옛 날 <SP> 그 대 로 이 었 으 나 <SP> ...   \n",
       "7681  드 디 어 <SP> 쇼 단 이 <SP> 해 체 되 고 <SP> 나 아 서 <SP> ...   \n",
       "7682  이 를 <SP> 위 하 아 서 도 <SP> 독 도 가 <SP> 일 본 <SP> 영 ...   \n",
       "7683  실 제 로 <SP> 대 우 가 <SP> 현 재 <SP> 분 양 중 이 ㄴ <SP> ...   \n",
       "7684  맷 <SP> 데 이 먼 은 <SP> 퍼 트 리 샤 <SP> 하 이 스 미 스 의 <...   \n",
       "\n",
       "                                                    ner  \n",
       "366   B_TI I_TI O O O <SP> O O O O <SP> O O O O O O ...  \n",
       "367   O O <SP> B_OG I_OG I_OG O <SP> O O <SP> B_OG I...  \n",
       "368   O B_PS I_PS <SP> I_PS I_PS I_PS O <SP> B_PS I_...  \n",
       "369   B_PS I_PS I_PS <SP> O <SP> O O O <SP> O O O <S...  \n",
       "370   B_OG I_OG I_OG I_OG I_OG <SP> B_PS I_PS I_PS <...  \n",
       "...                                                 ...  \n",
       "7680  O O <SP> O O <SP> O O <SP> O O O O O O O <SP> ...  \n",
       "7681  O O O <SP> O O O <SP> O O O O <SP> O O O <SP> ...  \n",
       "7682  O O <SP> O O O O O <SP> B_LC I_LC O <SP> B_LC ...  \n",
       "7683  O O O <SP> B_OG I_OG O <SP> O O <SP> O O O O O...  \n",
       "7684  B_PS <SP> I_PS I_PS I_PS O <SP> B_PS I_PS I_PS...  \n",
       "\n",
       "[7301 rows x 2 columns]"
      ]
     },
     "execution_count": 68,
     "metadata": {},
     "output_type": "execute_result"
    }
   ],
   "source": [
    "import pandas as pd\n",
    "test = pd.read_csv(f'ner_train.txt',\n",
    "                   sep='\\t',\n",
    "                   header=None,\n",
    "                   names=['sentence', 'ner'],\n",
    "                   index_col=0)\n",
    "test"
   ]
  },
  {
   "cell_type": "code",
   "execution_count": 69,
   "metadata": {},
   "outputs": [],
   "source": [
    "sent = test['sentence']\n",
    "ner = test['ner']"
   ]
  },
  {
   "cell_type": "code",
   "execution_count": 70,
   "metadata": {},
   "outputs": [],
   "source": [
    "words = []\n",
    "tag = []\n",
    "for s, n in zip(sent, ner):\n",
    "    s = s.split(' ')\n",
    "    n = n.split(' ')\n",
    "    inword = False\n",
    "    start = 0\n",
    "    start_tag = None\n",
    "    for i, nertag in enumerate(n):\n",
    "        if not inword:\n",
    "            if nertag[0] == 'B':\n",
    "                inword = True\n",
    "                start = i\n",
    "                start_tag = nertag\n",
    "        else:\n",
    "            if nertag[0] == 'B':\n",
    "                words.append(s[start: i])\n",
    "                tag.append(start_tag[2:])\n",
    "                start = i\n",
    "            elif nertag[0] == 'O':\n",
    "                words.append(s[start: i])\n",
    "                tag.append(start_tag[2:])\n",
    "                inword = False"
   ]
  },
  {
   "cell_type": "code",
   "execution_count": 71,
   "metadata": {},
   "outputs": [],
   "source": [
    "words = [''.join(word[:-1 if word[-1] == '<SP>' else len(word)]) for word in words]"
   ]
  },
  {
   "cell_type": "code",
   "execution_count": 72,
   "metadata": {},
   "outputs": [],
   "source": [
    "with open('dev_gazette.txt','w',encoding='utf8') as file:\n",
    "    for word, nertag in zip(words, tag):\n",
    "        file.write(word + '\\t' + nertag+ '\\n')"
   ]
  },
  {
   "cell_type": "code",
   "execution_count": null,
   "metadata": {},
   "outputs": [],
   "source": []
  }
 ],
 "metadata": {
  "kernelspec": {
   "display_name": "Python 3",
   "language": "python",
   "name": "python3"
  },
  "language_info": {
   "codemirror_mode": {
    "name": "ipython",
    "version": 3
   },
   "file_extension": ".py",
   "mimetype": "text/x-python",
   "name": "python",
   "nbconvert_exporter": "python",
   "pygments_lexer": "ipython3",
   "version": "3.8.2"
  }
 },
 "nbformat": 4,
 "nbformat_minor": 4
}
