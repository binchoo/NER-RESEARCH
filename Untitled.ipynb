{
 "cells": [
  {
   "cell_type": "code",
   "execution_count": 1,
   "metadata": {},
   "outputs": [],
   "source": [
    "from config import GazetteModelConfig, PostagModelConfig, CnnModelConfig, CnnGazetteModelConfig\n",
    "\n",
    "config = GazetteModelConfig(epoch=30)\n",
    "config2 = PostagModelConfig()\n",
    "config3 = CnnModelConfig()\n",
    "config4 = CnnGazetteModelConfig()"
   ]
  },
  {
   "cell_type": "code",
   "execution_count": 2,
   "metadata": {},
   "outputs": [
    {
     "data": {
      "text/plain": [
       "{'mode': 'train',\n",
       " 'root_dir': '.',\n",
       " 'train_file': 'ner_train.txt',\n",
       " 'dev_file': 'ner_dev.txt',\n",
       " 'word_vocab_file': 'vocab/word_vocab.txt',\n",
       " 'tag_vocab_file': 'vocab/tag_vocab.txt',\n",
       " 'trained_model_name': 'epoch_5.pt',\n",
       " 'output_dir_path': './output',\n",
       " 'word_vocab_size': 2160,\n",
       " 'number_of_tags': 14,\n",
       " 'hidden_size': 200,\n",
       " 'dropout': 0.2,\n",
       " 'embedding_size': 200,\n",
       " 'max_length': 150,\n",
       " 'batch_size': 64,\n",
       " 'epoch': 30,\n",
       " 'features': ['feature.gazetteer.GazetteFeature'],\n",
       " 'lr': 0.0003,\n",
       " 'gazette_feature_length': 7,\n",
       " 'ngrams': [3, 4, 5, 6, 7, 8, 9, 10]}"
      ]
     },
     "execution_count": 2,
     "metadata": {},
     "output_type": "execute_result"
    }
   ],
   "source": [
    "config.config_dict"
   ]
  },
  {
   "cell_type": "code",
   "execution_count": 3,
   "metadata": {},
   "outputs": [
    {
     "data": {
      "text/plain": [
       "{'mode': 'train',\n",
       " 'root_dir': '.',\n",
       " 'train_file': 'ner_train.txt',\n",
       " 'dev_file': 'ner_dev.txt',\n",
       " 'word_vocab_file': 'vocab/word_vocab.txt',\n",
       " 'tag_vocab_file': 'vocab/tag_vocab.txt',\n",
       " 'trained_model_name': 'epoch_5.pt',\n",
       " 'output_dir_path': './output',\n",
       " 'word_vocab_size': 2160,\n",
       " 'number_of_tags': 14,\n",
       " 'hidden_size': 200,\n",
       " 'dropout': 0.2,\n",
       " 'embedding_size': 200,\n",
       " 'max_length': 150,\n",
       " 'batch_size': 64,\n",
       " 'epoch': 20,\n",
       " 'features': None,\n",
       " 'lr': 0.0003,\n",
       " 'num_filters': 16}"
      ]
     },
     "execution_count": 3,
     "metadata": {},
     "output_type": "execute_result"
    }
   ],
   "source": [
    "config3.config_dict"
   ]
  },
  {
   "cell_type": "code",
   "execution_count": 4,
   "metadata": {},
   "outputs": [
    {
     "data": {
      "text/plain": [
       "{'mode': 'train',\n",
       " 'root_dir': '.',\n",
       " 'train_file': 'ner_train.txt',\n",
       " 'dev_file': 'ner_dev.txt',\n",
       " 'word_vocab_file': 'vocab/word_vocab.txt',\n",
       " 'tag_vocab_file': 'vocab/tag_vocab.txt',\n",
       " 'trained_model_name': 'epoch_5.pt',\n",
       " 'output_dir_path': './output',\n",
       " 'word_vocab_size': 2160,\n",
       " 'number_of_tags': 14,\n",
       " 'hidden_size': 200,\n",
       " 'dropout': 0.2,\n",
       " 'embedding_size': 200,\n",
       " 'max_length': 150,\n",
       " 'batch_size': 64,\n",
       " 'epoch': 20,\n",
       " 'features': ['feature.gazetteer.GazetteFeature'],\n",
       " 'lr': 0.0003,\n",
       " 'num_filters': 16,\n",
       " 'gazette_feature_length': 7,\n",
       " 'ngrams': [3, 4, 5, 6, 7, 8, 9, 10]}"
      ]
     },
     "execution_count": 4,
     "metadata": {},
     "output_type": "execute_result"
    }
   ],
   "source": [
    "config4.config_dict"
   ]
  },
  {
   "cell_type": "code",
   "execution_count": null,
   "metadata": {},
   "outputs": [],
   "source": []
  }
 ],
 "metadata": {
  "kernelspec": {
   "display_name": "Python 3",
   "language": "python",
   "name": "python3"
  },
  "language_info": {
   "codemirror_mode": {
    "name": "ipython",
    "version": 3
   },
   "file_extension": ".py",
   "mimetype": "text/x-python",
   "name": "python",
   "nbconvert_exporter": "python",
   "pygments_lexer": "ipython3",
   "version": "3.8.2"
  }
 },
 "nbformat": 4,
 "nbformat_minor": 4
}
